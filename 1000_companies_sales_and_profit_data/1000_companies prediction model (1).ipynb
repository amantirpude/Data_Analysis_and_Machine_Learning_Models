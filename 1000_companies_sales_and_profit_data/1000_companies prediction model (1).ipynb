{
 "cells": [
  {
   "cell_type": "code",
   "execution_count": 1,
   "metadata": {},
   "outputs": [],
   "source": [
    "import pandas as pd\n",
    "import seaborn as sns\n",
    "import numpy as np"
   ]
  },
  {
   "cell_type": "code",
   "execution_count": 2,
   "metadata": {},
   "outputs": [],
   "source": [
    "df = pd.read_csv(\"D:/Topmentor_Python_Class/1000_companies_new.csv\")"
   ]
  },
  {
   "cell_type": "code",
   "execution_count": 3,
   "metadata": {},
   "outputs": [
    {
     "data": {
      "text/html": [
       "<div>\n",
       "<style scoped>\n",
       "    .dataframe tbody tr th:only-of-type {\n",
       "        vertical-align: middle;\n",
       "    }\n",
       "\n",
       "    .dataframe tbody tr th {\n",
       "        vertical-align: top;\n",
       "    }\n",
       "\n",
       "    .dataframe thead th {\n",
       "        text-align: right;\n",
       "    }\n",
       "</style>\n",
       "<table border=\"1\" class=\"dataframe\">\n",
       "  <thead>\n",
       "    <tr style=\"text-align: right;\">\n",
       "      <th></th>\n",
       "      <th>Unnamed: 0</th>\n",
       "      <th>R_D_Spend</th>\n",
       "      <th>Administration</th>\n",
       "      <th>Marketing_Spend</th>\n",
       "      <th>Profit</th>\n",
       "      <th>State</th>\n",
       "    </tr>\n",
       "  </thead>\n",
       "  <tbody>\n",
       "    <tr>\n",
       "      <th>0</th>\n",
       "      <td>0</td>\n",
       "      <td>165349.20</td>\n",
       "      <td>136897.800</td>\n",
       "      <td>471784.1000</td>\n",
       "      <td>192261.83000</td>\n",
       "      <td>New York</td>\n",
       "    </tr>\n",
       "    <tr>\n",
       "      <th>1</th>\n",
       "      <td>1</td>\n",
       "      <td>162597.70</td>\n",
       "      <td>151377.590</td>\n",
       "      <td>443898.5300</td>\n",
       "      <td>191792.06000</td>\n",
       "      <td>California</td>\n",
       "    </tr>\n",
       "    <tr>\n",
       "      <th>2</th>\n",
       "      <td>2</td>\n",
       "      <td>153441.51</td>\n",
       "      <td>101145.550</td>\n",
       "      <td>407934.5400</td>\n",
       "      <td>191050.39000</td>\n",
       "      <td>Florida</td>\n",
       "    </tr>\n",
       "    <tr>\n",
       "      <th>3</th>\n",
       "      <td>3</td>\n",
       "      <td>144372.41</td>\n",
       "      <td>118671.850</td>\n",
       "      <td>383199.6200</td>\n",
       "      <td>182901.99000</td>\n",
       "      <td>New York</td>\n",
       "    </tr>\n",
       "    <tr>\n",
       "      <th>4</th>\n",
       "      <td>4</td>\n",
       "      <td>142107.34</td>\n",
       "      <td>91391.770</td>\n",
       "      <td>366168.4200</td>\n",
       "      <td>166187.94000</td>\n",
       "      <td>Florida</td>\n",
       "    </tr>\n",
       "    <tr>\n",
       "      <th>...</th>\n",
       "      <td>...</td>\n",
       "      <td>...</td>\n",
       "      <td>...</td>\n",
       "      <td>...</td>\n",
       "      <td>...</td>\n",
       "      <td>...</td>\n",
       "    </tr>\n",
       "    <tr>\n",
       "      <th>995</th>\n",
       "      <td>995</td>\n",
       "      <td>54135.00</td>\n",
       "      <td>118451.999</td>\n",
       "      <td>173232.6695</td>\n",
       "      <td>95279.96251</td>\n",
       "      <td>California</td>\n",
       "    </tr>\n",
       "    <tr>\n",
       "      <th>996</th>\n",
       "      <td>996</td>\n",
       "      <td>134970.00</td>\n",
       "      <td>130390.080</td>\n",
       "      <td>329204.0228</td>\n",
       "      <td>164336.60550</td>\n",
       "      <td>California</td>\n",
       "    </tr>\n",
       "    <tr>\n",
       "      <th>997</th>\n",
       "      <td>997</td>\n",
       "      <td>100275.47</td>\n",
       "      <td>241926.310</td>\n",
       "      <td>227142.8200</td>\n",
       "      <td>413956.48000</td>\n",
       "      <td>California</td>\n",
       "    </tr>\n",
       "    <tr>\n",
       "      <th>998</th>\n",
       "      <td>998</td>\n",
       "      <td>128456.23</td>\n",
       "      <td>321652.140</td>\n",
       "      <td>281692.3200</td>\n",
       "      <td>333962.19000</td>\n",
       "      <td>California</td>\n",
       "    </tr>\n",
       "    <tr>\n",
       "      <th>999</th>\n",
       "      <td>999</td>\n",
       "      <td>161181.72</td>\n",
       "      <td>270939.860</td>\n",
       "      <td>295442.1700</td>\n",
       "      <td>476485.43000</td>\n",
       "      <td>New York</td>\n",
       "    </tr>\n",
       "  </tbody>\n",
       "</table>\n",
       "<p>1000 rows × 6 columns</p>\n",
       "</div>"
      ],
      "text/plain": [
       "     Unnamed: 0  R_D_Spend  Administration  Marketing_Spend        Profit  \\\n",
       "0             0  165349.20      136897.800      471784.1000  192261.83000   \n",
       "1             1  162597.70      151377.590      443898.5300  191792.06000   \n",
       "2             2  153441.51      101145.550      407934.5400  191050.39000   \n",
       "3             3  144372.41      118671.850      383199.6200  182901.99000   \n",
       "4             4  142107.34       91391.770      366168.4200  166187.94000   \n",
       "..          ...        ...             ...              ...           ...   \n",
       "995         995   54135.00      118451.999      173232.6695   95279.96251   \n",
       "996         996  134970.00      130390.080      329204.0228  164336.60550   \n",
       "997         997  100275.47      241926.310      227142.8200  413956.48000   \n",
       "998         998  128456.23      321652.140      281692.3200  333962.19000   \n",
       "999         999  161181.72      270939.860      295442.1700  476485.43000   \n",
       "\n",
       "          State  \n",
       "0      New York  \n",
       "1    California  \n",
       "2       Florida  \n",
       "3      New York  \n",
       "4       Florida  \n",
       "..          ...  \n",
       "995  California  \n",
       "996  California  \n",
       "997  California  \n",
       "998  California  \n",
       "999    New York  \n",
       "\n",
       "[1000 rows x 6 columns]"
      ]
     },
     "execution_count": 3,
     "metadata": {},
     "output_type": "execute_result"
    }
   ],
   "source": [
    "df"
   ]
  },
  {
   "cell_type": "code",
   "execution_count": 4,
   "metadata": {
    "scrolled": true
   },
   "outputs": [
    {
     "data": {
      "text/plain": [
       "Unnamed: 0         0\n",
       "R_D_Spend          0\n",
       "Administration     0\n",
       "Marketing_Spend    0\n",
       "Profit             0\n",
       "State              0\n",
       "dtype: int64"
      ]
     },
     "execution_count": 4,
     "metadata": {},
     "output_type": "execute_result"
    }
   ],
   "source": [
    "df.isnull().sum()"
   ]
  },
  {
   "cell_type": "code",
   "execution_count": 5,
   "metadata": {},
   "outputs": [
    {
     "data": {
      "text/plain": [
       "Index(['Unnamed: 0', 'R_D_Spend', 'Administration', 'Marketing_Spend',\n",
       "       'Profit', 'State'],\n",
       "      dtype='object')"
      ]
     },
     "execution_count": 5,
     "metadata": {},
     "output_type": "execute_result"
    }
   ],
   "source": [
    "df.columns"
   ]
  },
  {
   "cell_type": "code",
   "execution_count": 6,
   "metadata": {},
   "outputs": [
    {
     "name": "stderr",
     "output_type": "stream",
     "text": [
      "C:\\Users\\amant\\anaconda3\\lib\\site-packages\\seaborn\\distributions.py:2551: FutureWarning: `distplot` is a deprecated function and will be removed in a future version. Please adapt your code to use either `displot` (a figure-level function with similar flexibility) or `histplot` (an axes-level function for histograms).\n",
      "  warnings.warn(msg, FutureWarning)\n"
     ]
    },
    {
     "name": "stdout",
     "output_type": "stream",
     "text": [
      "-0.016775458517277363\n",
      "-1.2293497397191055\n"
     ]
    },
    {
     "data": {
      "image/png": "[encoded data removed]",
      "text/plain": [
       "<Figure size 432x288 with 1 Axes>"
      ]
     },
     "metadata": {
      "needs_background": "light"
     },
     "output_type": "display_data"
    }
   ],
   "source": [
    "sns.distplot(df['R_D_Spend'])\n",
    "print(df['R_D_Spend'].skew())\n",
    "print(df['R_D_Spend'].kurt())"
   ]
  },
  {
   "cell_type": "code",
   "execution_count": 7,
   "metadata": {},
   "outputs": [
    {
     "name": "stderr",
     "output_type": "stream",
     "text": [
      "C:\\Users\\amant\\anaconda3\\lib\\site-packages\\seaborn\\distributions.py:2551: FutureWarning: `distplot` is a deprecated function and will be removed in a future version. Please adapt your code to use either `displot` (a figure-level function with similar flexibility) or `histplot` (an axes-level function for histograms).\n",
      "  warnings.warn(msg, FutureWarning)\n"
     ]
    },
    {
     "name": "stdout",
     "output_type": "stream",
     "text": [
      "6.173214409348265\n",
      "93.25361034508374\n"
     ]
    },
    {
     "data": {
      "image/png": "[encoded data removed]",
      "text/plain": [
       "<Figure size 432x288 with 1 Axes>"
      ]
     },
     "metadata": {
      "needs_background": "light"
     },
     "output_type": "display_data"
    }
   ],
   "source": [
    "sns.distplot(df['Administration'])\n",
    "print(df['Administration'].skew())\n",
    "print(df['Administration'].kurt())"
   ]
  },
  {
   "cell_type": "code",
   "execution_count": 8,
   "metadata": {},
   "outputs": [
    {
     "name": "stderr",
     "output_type": "stream",
     "text": [
      "C:\\Users\\amant\\anaconda3\\lib\\site-packages\\seaborn\\distributions.py:2551: FutureWarning: `distplot` is a deprecated function and will be removed in a future version. Please adapt your code to use either `displot` (a figure-level function with similar flexibility) or `histplot` (an axes-level function for histograms).\n",
      "  warnings.warn(msg, FutureWarning)\n"
     ]
    },
    {
     "name": "stdout",
     "output_type": "stream",
     "text": [
      "-0.05317511511005941\n",
      "-1.092073346018352\n"
     ]
    },
    {
     "data": {
      "image/png": "[encoded data removed]",
      "text/plain": [
       "<Figure size 432x288 with 1 Axes>"
      ]
     },
     "metadata": {
      "needs_background": "light"
     },
     "output_type": "display_data"
    }
   ],
   "source": [
    "sns.distplot(df['Marketing_Spend'])\n",
    "print(df['Marketing_Spend'].skew())\n",
    "print(df['Marketing_Spend'].kurt())"
   ]
  },
  {
   "cell_type": "code",
   "execution_count": 9,
   "metadata": {},
   "outputs": [],
   "source": [
    "corr_ = df.corr()"
   ]
  },
  {
   "cell_type": "code",
   "execution_count": 10,
   "metadata": {},
   "outputs": [
    {
     "data": {
      "text/html": [
       "<div>\n",
       "<style scoped>\n",
       "    .dataframe tbody tr th:only-of-type {\n",
       "        vertical-align: middle;\n",
       "    }\n",
       "\n",
       "    .dataframe tbody tr th {\n",
       "        vertical-align: top;\n",
       "    }\n",
       "\n",
       "    .dataframe thead th {\n",
       "        text-align: right;\n",
       "    }\n",
       "</style>\n",
       "<table border=\"1\" class=\"dataframe\">\n",
       "  <thead>\n",
       "    <tr style=\"text-align: right;\">\n",
       "      <th></th>\n",
       "      <th>Unnamed: 0</th>\n",
       "      <th>R_D_Spend</th>\n",
       "      <th>Administration</th>\n",
       "      <th>Marketing_Spend</th>\n",
       "      <th>Profit</th>\n",
       "    </tr>\n",
       "  </thead>\n",
       "  <tbody>\n",
       "    <tr>\n",
       "      <th>Unnamed: 0</th>\n",
       "      <td>1.000000</td>\n",
       "      <td>-0.006275</td>\n",
       "      <td>0.055361</td>\n",
       "      <td>-0.011234</td>\n",
       "      <td>0.024356</td>\n",
       "    </tr>\n",
       "    <tr>\n",
       "      <th>R_D_Spend</th>\n",
       "      <td>-0.006275</td>\n",
       "      <td>1.000000</td>\n",
       "      <td>0.584483</td>\n",
       "      <td>0.975815</td>\n",
       "      <td>0.945018</td>\n",
       "    </tr>\n",
       "    <tr>\n",
       "      <th>Administration</th>\n",
       "      <td>0.055361</td>\n",
       "      <td>0.584483</td>\n",
       "      <td>1.000000</td>\n",
       "      <td>0.519006</td>\n",
       "      <td>0.745481</td>\n",
       "    </tr>\n",
       "    <tr>\n",
       "      <th>Marketing_Spend</th>\n",
       "      <td>-0.011234</td>\n",
       "      <td>0.975815</td>\n",
       "      <td>0.519006</td>\n",
       "      <td>1.000000</td>\n",
       "      <td>0.915081</td>\n",
       "    </tr>\n",
       "    <tr>\n",
       "      <th>Profit</th>\n",
       "      <td>0.024356</td>\n",
       "      <td>0.945018</td>\n",
       "      <td>0.745481</td>\n",
       "      <td>0.915081</td>\n",
       "      <td>1.000000</td>\n",
       "    </tr>\n",
       "  </tbody>\n",
       "</table>\n",
       "</div>"
      ],
      "text/plain": [
       "                 Unnamed: 0  R_D_Spend  Administration  Marketing_Spend  \\\n",
       "Unnamed: 0         1.000000  -0.006275        0.055361        -0.011234   \n",
       "R_D_Spend         -0.006275   1.000000        0.584483         0.975815   \n",
       "Administration     0.055361   0.584483        1.000000         0.519006   \n",
       "Marketing_Spend   -0.011234   0.975815        0.519006         1.000000   \n",
       "Profit             0.024356   0.945018        0.745481         0.915081   \n",
       "\n",
       "                   Profit  \n",
       "Unnamed: 0       0.024356  \n",
       "R_D_Spend        0.945018  \n",
       "Administration   0.745481  \n",
       "Marketing_Spend  0.915081  \n",
       "Profit           1.000000  "
      ]
     },
     "execution_count": 10,
     "metadata": {},
     "output_type": "execute_result"
    }
   ],
   "source": [
    "corr_"
   ]
  },
  {
   "cell_type": "code",
   "execution_count": 11,
   "metadata": {},
   "outputs": [
    {
     "data": {
      "text/plain": [
       "<AxesSubplot:>"
      ]
     },
     "execution_count": 11,
     "metadata": {},
     "output_type": "execute_result"
    },
    {
     "data": {
      "image/png": "[encoded data removed]",
      "text/plain": [
       "<Figure size 432x288 with 2 Axes>"
      ]
     },
     "metadata": {
      "needs_background": "light"
     },
     "output_type": "display_data"
    }
   ],
   "source": [
    "sns.heatmap(corr_, annot =True)"
   ]
  },
  {
   "cell_type": "code",
   "execution_count": 12,
   "metadata": {},
   "outputs": [
    {
     "data": {
      "text/plain": [
       "(1000, 6)"
      ]
     },
     "execution_count": 12,
     "metadata": {},
     "output_type": "execute_result"
    }
   ],
   "source": [
    "df.shape"
   ]
  },
  {
   "cell_type": "code",
   "execution_count": 13,
   "metadata": {},
   "outputs": [
    {
     "name": "stdout",
     "output_type": "stream",
     "text": [
      "     R_D_Spend  Administration  Marketing_Spend\n",
      "0    165349.20      136897.800      471784.1000\n",
      "1    162597.70      151377.590      443898.5300\n",
      "2    153441.51      101145.550      407934.5400\n",
      "3    144372.41      118671.850      383199.6200\n",
      "4    142107.34       91391.770      366168.4200\n",
      "..         ...             ...              ...\n",
      "995   54135.00      118451.999      173232.6695\n",
      "996  134970.00      130390.080      329204.0228\n",
      "997  100275.47      241926.310      227142.8200\n",
      "998  128456.23      321652.140      281692.3200\n",
      "999  161181.72      270939.860      295442.1700\n",
      "\n",
      "[1000 rows x 3 columns]\n"
     ]
    }
   ],
   "source": [
    "X = df[[\"R_D_Spend\", \"Administration\", \"Marketing_Spend\"]]\n",
    "y = df[\"Profit\"]\n",
    "print(X)"
   ]
  },
  {
   "cell_type": "code",
   "execution_count": 14,
   "metadata": {},
   "outputs": [
    {
     "name": "stdout",
     "output_type": "stream",
     "text": [
      "0      192261.83000\n",
      "1      191792.06000\n",
      "2      191050.39000\n",
      "3      182901.99000\n",
      "4      166187.94000\n",
      "           ...     \n",
      "995     95279.96251\n",
      "996    164336.60550\n",
      "997    413956.48000\n",
      "998    333962.19000\n",
      "999    476485.43000\n",
      "Name: Profit, Length: 1000, dtype: float64\n"
     ]
    }
   ],
   "source": [
    "print(y)"
   ]
  },
  {
   "cell_type": "code",
   "execution_count": 15,
   "metadata": {},
   "outputs": [],
   "source": [
    "from sklearn.model_selection import train_test_split"
   ]
  },
  {
   "cell_type": "code",
   "execution_count": 16,
   "metadata": {},
   "outputs": [],
   "source": [
    "X_train, X_test, y_train, y_test = train_test_split(X, y, test_size=0.15, random_state = 42)"
   ]
  },
  {
   "cell_type": "code",
   "execution_count": 17,
   "metadata": {},
   "outputs": [
    {
     "data": {
      "text/plain": [
       "((850, 3), (850,))"
      ]
     },
     "execution_count": 17,
     "metadata": {},
     "output_type": "execute_result"
    }
   ],
   "source": [
    "X_train.shape, y_train.shape"
   ]
  },
  {
   "cell_type": "code",
   "execution_count": 18,
   "metadata": {},
   "outputs": [
    {
     "data": {
      "text/plain": [
       "((150, 3), (150,))"
      ]
     },
     "execution_count": 18,
     "metadata": {},
     "output_type": "execute_result"
    }
   ],
   "source": [
    "X_test.shape, y_test.shape"
   ]
  },
  {
   "cell_type": "code",
   "execution_count": 19,
   "metadata": {},
   "outputs": [
    {
     "data": {
      "text/html": [
       "<div>\n",
       "<style scoped>\n",
       "    .dataframe tbody tr th:only-of-type {\n",
       "        vertical-align: middle;\n",
       "    }\n",
       "\n",
       "    .dataframe tbody tr th {\n",
       "        vertical-align: top;\n",
       "    }\n",
       "\n",
       "    .dataframe thead th {\n",
       "        text-align: right;\n",
       "    }\n",
       "</style>\n",
       "<table border=\"1\" class=\"dataframe\">\n",
       "  <thead>\n",
       "    <tr style=\"text-align: right;\">\n",
       "      <th></th>\n",
       "      <th>R_D_Spend</th>\n",
       "      <th>Administration</th>\n",
       "      <th>Marketing_Spend</th>\n",
       "    </tr>\n",
       "  </thead>\n",
       "  <tbody>\n",
       "    <tr>\n",
       "      <th>643</th>\n",
       "      <td>4187.0</td>\n",
       "      <td>111075.4508</td>\n",
       "      <td>76857.86711</td>\n",
       "    </tr>\n",
       "    <tr>\n",
       "      <th>158</th>\n",
       "      <td>91258.0</td>\n",
       "      <td>123934.4927</td>\n",
       "      <td>244861.59940</td>\n",
       "    </tr>\n",
       "    <tr>\n",
       "      <th>977</th>\n",
       "      <td>47438.0</td>\n",
       "      <td>117462.9555</td>\n",
       "      <td>160310.78970</td>\n",
       "    </tr>\n",
       "    <tr>\n",
       "      <th>429</th>\n",
       "      <td>96720.0</td>\n",
       "      <td>124741.1458</td>\n",
       "      <td>255400.54330</td>\n",
       "    </tr>\n",
       "    <tr>\n",
       "      <th>941</th>\n",
       "      <td>116989.0</td>\n",
       "      <td>127734.5640</td>\n",
       "      <td>294509.63420</td>\n",
       "    </tr>\n",
       "  </tbody>\n",
       "</table>\n",
       "</div>"
      ],
      "text/plain": [
       "     R_D_Spend  Administration  Marketing_Spend\n",
       "643     4187.0     111075.4508      76857.86711\n",
       "158    91258.0     123934.4927     244861.59940\n",
       "977    47438.0     117462.9555     160310.78970\n",
       "429    96720.0     124741.1458     255400.54330\n",
       "941   116989.0     127734.5640     294509.63420"
      ]
     },
     "execution_count": 19,
     "metadata": {},
     "output_type": "execute_result"
    }
   ],
   "source": [
    "X_train.head()"
   ]
  },
  {
   "cell_type": "code",
   "execution_count": 20,
   "metadata": {},
   "outputs": [],
   "source": [
    "from sklearn.linear_model import LinearRegression"
   ]
  },
  {
   "cell_type": "code",
   "execution_count": 21,
   "metadata": {},
   "outputs": [],
   "source": [
    "model = LinearRegression()"
   ]
  },
  {
   "cell_type": "markdown",
   "metadata": {},
   "source": [
    "## Training Phaase"
   ]
  },
  {
   "cell_type": "code",
   "execution_count": 22,
   "metadata": {},
   "outputs": [
    {
     "data": {
      "text/plain": [
       "LinearRegression()"
      ]
     },
     "execution_count": 22,
     "metadata": {},
     "output_type": "execute_result"
    }
   ],
   "source": [
    "model_train = model.fit(X_train, y_train)\n",
    "model_train"
   ]
  },
  {
   "cell_type": "code",
   "execution_count": 23,
   "metadata": {},
   "outputs": [
    {
     "name": "stdout",
     "output_type": "stream",
     "text": [
      "[0.51356162 1.19170348 0.08972324]\n",
      "-89252.6509322707\n"
     ]
    }
   ],
   "source": [
    "print(model_train.coef_)\n",
    "print(model_train.intercept_)"
   ]
  },
  {
   "cell_type": "code",
   "execution_count": 24,
   "metadata": {
    "scrolled": true
   },
   "outputs": [
    {
     "data": {
      "text/plain": [
       "0.9465032330987562"
      ]
     },
     "execution_count": 24,
     "metadata": {},
     "output_type": "execute_result"
    }
   ],
   "source": [
    "model_train.score(X_train, y_train)"
   ]
  },
  {
   "cell_type": "code",
   "execution_count": 25,
   "metadata": {},
   "outputs": [],
   "source": [
    "R_D_Spend = 113478\n",
    "Administration = 127216.0435\n",
    "Marketing_Spend = 287735.1501"
   ]
  },
  {
   "cell_type": "code",
   "execution_count": 26,
   "metadata": {},
   "outputs": [
    {
     "data": {
      "text/plain": [
       "146592.08138068792"
      ]
     },
     "execution_count": 26,
     "metadata": {},
     "output_type": "execute_result"
    }
   ],
   "source": [
    "y1 = (0.53328102*R_D_Spend + 1.1225376*Administration + 0.08479815*Marketing_Spend - 81127.78277731)\n",
    "y1"
   ]
  },
  {
   "cell_type": "markdown",
   "metadata": {},
   "source": [
    "## Validation Phase"
   ]
  },
  {
   "cell_type": "code",
   "execution_count": 27,
   "metadata": {},
   "outputs": [
    {
     "data": {
      "text/plain": [
       "array([124525.81357684, 111386.34891248,  91304.04336809, 127128.51626474,\n",
       "       161625.32613938,  91375.64570533, 154600.53055559, 138985.17710748,\n",
       "        87551.3893959 ,  91070.25724709, 168071.26400764, 163367.9378179 ,\n",
       "       104889.51296335, 107798.46681567,  91559.39633249, 159847.34458125,\n",
       "       116451.13758624, 104218.3487644 , 120175.32313736, 105223.36985165,\n",
       "        75221.9804854 , 125537.73612261,  64857.75431068,  69718.95079812,\n",
       "       170363.4021732 , 164529.10380843, 178247.42606915, 135167.82237573,\n",
       "       122149.99543226, 162407.7760502 , 145207.68109314, 113028.02713546,\n",
       "       165776.53775942, 141494.71049557,  64881.04666767,  88555.54790511,\n",
       "        81664.46756482,  73815.81366764, 116438.19748559, 170267.64490093,\n",
       "        59997.42064051,  88617.66081137, 121365.82024618, 141768.17975286,\n",
       "       168619.06521943, 147404.06198642, 152418.81528552, 138414.08353871,\n",
       "       141602.54540962,  74090.14549399, 114136.56976988,  62181.72388484,\n",
       "       171597.8958954 , 177112.14040807,  98798.17228487,  88572.04016554,\n",
       "       180321.30654434, 115442.44355306, 121720.38127169,  67434.57667809,\n",
       "       118462.90515517,  89721.02726252, 182769.58961318,  61032.6354223 ,\n",
       "       179342.16578654,  99288.13791217,  64931.94473955,  50826.27954439,\n",
       "        82330.45581885,  99923.9323507 , 101702.77660603, 134475.95367308,\n",
       "       128354.38313399, 167576.94885815,  95231.82098636, 105063.77415952,\n",
       "       101020.3974625 ,  45141.06913917,  65150.2025491 , 185480.98991234,\n",
       "       165434.05413736,  68380.07294174, 161259.5501693 , 178498.46566666,\n",
       "        96780.32991851, 170265.91950651, 385305.85978772,  98814.52713824,\n",
       "       141010.74747427,  49598.6872825 , 103962.99568083,  68358.50598815,\n",
       "        53686.92329369,  53869.81134101,  64895.71228191, 175750.83290089,\n",
       "       112191.2284741 ,  78212.88869295, 101135.13383508, 168833.00953394,\n",
       "       128015.35030077, 141467.1047717 , 164316.8847602 , 109776.58978025,\n",
       "       106951.31590695, 118035.87908623, 118326.6019392 , 173224.90861433,\n",
       "       156081.75050841, 135082.41711248,  77638.34446348, 120960.36102064,\n",
       "       103429.86009227, 174641.42768843, 167270.6978129 ,  78113.68063184,\n",
       "        73611.35865596,  99333.85991996,  91781.1048117 , 122078.52676409,\n",
       "        56664.02869621, 173671.77637058,  85447.31523335, 169379.08547047,\n",
       "        99317.46903047, 106148.16173975, 167352.65227833, 166191.48629677,\n",
       "        80689.64029307, 175170.24991011, 162811.50976215, 186127.99918524,\n",
       "       130920.85336425,  95251.66267367, 100579.56847653,  75072.73704063,\n",
       "       129788.1557948 , 146445.62549398, 122641.10146913, 105403.66968098,\n",
       "       109162.28348762, 156356.94515114,  88386.462782  , 109394.42303087,\n",
       "        66044.80074983,  95118.81012738, 153437.6392898 ,  52784.56105999,\n",
       "       171174.32049614, 169866.49904228])"
      ]
     },
     "execution_count": 27,
     "metadata": {},
     "output_type": "execute_result"
    }
   ],
   "source": [
    "pred = model_train.predict(X_test)\n",
    "pred"
   ]
  },
  {
   "cell_type": "code",
   "execution_count": 28,
   "metadata": {
    "scrolled": true
   },
   "outputs": [
    {
     "data": {
      "text/html": [
       "<div>\n",
       "<style scoped>\n",
       "    .dataframe tbody tr th:only-of-type {\n",
       "        vertical-align: middle;\n",
       "    }\n",
       "\n",
       "    .dataframe tbody tr th {\n",
       "        vertical-align: top;\n",
       "    }\n",
       "\n",
       "    .dataframe thead th {\n",
       "        text-align: right;\n",
       "    }\n",
       "</style>\n",
       "<table border=\"1\" class=\"dataframe\">\n",
       "  <thead>\n",
       "    <tr style=\"text-align: right;\">\n",
       "      <th></th>\n",
       "      <th>Actual_Profit</th>\n",
       "      <th>Predicted_Profit</th>\n",
       "      <th>Residuals</th>\n",
       "    </tr>\n",
       "  </thead>\n",
       "  <tbody>\n",
       "    <tr>\n",
       "      <th>521</th>\n",
       "      <td>124269.48590</td>\n",
       "      <td>124525.813577</td>\n",
       "      <td>-256.327677</td>\n",
       "    </tr>\n",
       "    <tr>\n",
       "      <th>737</th>\n",
       "      <td>111257.77400</td>\n",
       "      <td>111386.348912</td>\n",
       "      <td>-128.574912</td>\n",
       "    </tr>\n",
       "    <tr>\n",
       "      <th>740</th>\n",
       "      <td>91370.72519</td>\n",
       "      <td>91304.043368</td>\n",
       "      <td>66.681822</td>\n",
       "    </tr>\n",
       "    <tr>\n",
       "      <th>660</th>\n",
       "      <td>126846.88300</td>\n",
       "      <td>127128.516265</td>\n",
       "      <td>-281.633265</td>\n",
       "    </tr>\n",
       "    <tr>\n",
       "      <th>411</th>\n",
       "      <td>161008.28630</td>\n",
       "      <td>161625.326139</td>\n",
       "      <td>-617.039839</td>\n",
       "    </tr>\n",
       "    <tr>\n",
       "      <th>...</th>\n",
       "      <td>...</td>\n",
       "      <td>...</td>\n",
       "      <td>...</td>\n",
       "    </tr>\n",
       "    <tr>\n",
       "      <th>914</th>\n",
       "      <td>95148.40164</td>\n",
       "      <td>95118.810127</td>\n",
       "      <td>29.591513</td>\n",
       "    </tr>\n",
       "    <tr>\n",
       "      <th>810</th>\n",
       "      <td>152900.20690</td>\n",
       "      <td>153437.639290</td>\n",
       "      <td>-537.432390</td>\n",
       "    </tr>\n",
       "    <tr>\n",
       "      <th>244</th>\n",
       "      <td>53225.76119</td>\n",
       "      <td>52784.561060</td>\n",
       "      <td>441.200130</td>\n",
       "    </tr>\n",
       "    <tr>\n",
       "      <th>822</th>\n",
       "      <td>170464.43750</td>\n",
       "      <td>171174.320496</td>\n",
       "      <td>-709.882996</td>\n",
       "    </tr>\n",
       "    <tr>\n",
       "      <th>321</th>\n",
       "      <td>169169.33180</td>\n",
       "      <td>169866.499042</td>\n",
       "      <td>-697.167242</td>\n",
       "    </tr>\n",
       "  </tbody>\n",
       "</table>\n",
       "<p>150 rows × 3 columns</p>\n",
       "</div>"
      ],
      "text/plain": [
       "     Actual_Profit  Predicted_Profit   Residuals\n",
       "521   124269.48590     124525.813577 -256.327677\n",
       "737   111257.77400     111386.348912 -128.574912\n",
       "740    91370.72519      91304.043368   66.681822\n",
       "660   126846.88300     127128.516265 -281.633265\n",
       "411   161008.28630     161625.326139 -617.039839\n",
       "..             ...               ...         ...\n",
       "914    95148.40164      95118.810127   29.591513\n",
       "810   152900.20690     153437.639290 -537.432390\n",
       "244    53225.76119      52784.561060  441.200130\n",
       "822   170464.43750     171174.320496 -709.882996\n",
       "321   169169.33180     169866.499042 -697.167242\n",
       "\n",
       "[150 rows x 3 columns]"
      ]
     },
     "execution_count": 28,
     "metadata": {},
     "output_type": "execute_result"
    }
   ],
   "source": [
    "df1= pd.DataFrame({'Actual_Profit': y_test, 'Predicted_Profit': pred, 'Residuals' : (y_test - pred)})\n",
    "df1"
   ]
  },
  {
   "cell_type": "code",
   "execution_count": 29,
   "metadata": {},
   "outputs": [],
   "source": [
    "from sklearn.metrics import r2_score, mean_absolute_error, mean_squared_error, accuracy_score"
   ]
  },
  {
   "cell_type": "code",
   "execution_count": 30,
   "metadata": {},
   "outputs": [
    {
     "name": "stdout",
     "output_type": "stream",
     "text": [
      "0.972128222560249\n",
      "1684.163290664269\n",
      "48671622.03163297\n"
     ]
    }
   ],
   "source": [
    "print(r2_score(y_test, pred))\n",
    "print(mean_absolute_error(y_test, pred))\n",
    "print(mean_squared_error(y_test, pred))"
   ]
  },
  {
   "cell_type": "code",
   "execution_count": 31,
   "metadata": {},
   "outputs": [
    {
     "data": {
      "text/plain": [
       "521    124269.48590\n",
       "737    111257.77400\n",
       "740     91370.72519\n",
       "660    126846.88300\n",
       "411    161008.28630\n",
       "           ...     \n",
       "914     95148.40164\n",
       "810    152900.20690\n",
       "244     53225.76119\n",
       "822    170464.43750\n",
       "321    169169.33180\n",
       "Name: Profit, Length: 150, dtype: float64"
      ]
     },
     "execution_count": 31,
     "metadata": {},
     "output_type": "execute_result"
    }
   ],
   "source": [
    "y_test"
   ]
  },
  {
   "cell_type": "code",
   "execution_count": 32,
   "metadata": {},
   "outputs": [
    {
     "data": {
      "text/html": [
       "<div>\n",
       "<style scoped>\n",
       "    .dataframe tbody tr th:only-of-type {\n",
       "        vertical-align: middle;\n",
       "    }\n",
       "\n",
       "    .dataframe tbody tr th {\n",
       "        vertical-align: top;\n",
       "    }\n",
       "\n",
       "    .dataframe thead th {\n",
       "        text-align: right;\n",
       "    }\n",
       "</style>\n",
       "<table border=\"1\" class=\"dataframe\">\n",
       "  <thead>\n",
       "    <tr style=\"text-align: right;\">\n",
       "      <th></th>\n",
       "      <th>pred</th>\n",
       "    </tr>\n",
       "  </thead>\n",
       "  <tbody>\n",
       "    <tr>\n",
       "      <th>0</th>\n",
       "      <td>124525.813577</td>\n",
       "    </tr>\n",
       "    <tr>\n",
       "      <th>1</th>\n",
       "      <td>111386.348912</td>\n",
       "    </tr>\n",
       "    <tr>\n",
       "      <th>2</th>\n",
       "      <td>91304.043368</td>\n",
       "    </tr>\n",
       "    <tr>\n",
       "      <th>3</th>\n",
       "      <td>127128.516265</td>\n",
       "    </tr>\n",
       "    <tr>\n",
       "      <th>4</th>\n",
       "      <td>161625.326139</td>\n",
       "    </tr>\n",
       "    <tr>\n",
       "      <th>...</th>\n",
       "      <td>...</td>\n",
       "    </tr>\n",
       "    <tr>\n",
       "      <th>145</th>\n",
       "      <td>95118.810127</td>\n",
       "    </tr>\n",
       "    <tr>\n",
       "      <th>146</th>\n",
       "      <td>153437.639290</td>\n",
       "    </tr>\n",
       "    <tr>\n",
       "      <th>147</th>\n",
       "      <td>52784.561060</td>\n",
       "    </tr>\n",
       "    <tr>\n",
       "      <th>148</th>\n",
       "      <td>171174.320496</td>\n",
       "    </tr>\n",
       "    <tr>\n",
       "      <th>149</th>\n",
       "      <td>169866.499042</td>\n",
       "    </tr>\n",
       "  </tbody>\n",
       "</table>\n",
       "<p>150 rows × 1 columns</p>\n",
       "</div>"
      ],
      "text/plain": [
       "              pred\n",
       "0    124525.813577\n",
       "1    111386.348912\n",
       "2     91304.043368\n",
       "3    127128.516265\n",
       "4    161625.326139\n",
       "..             ...\n",
       "145   95118.810127\n",
       "146  153437.639290\n",
       "147   52784.561060\n",
       "148  171174.320496\n",
       "149  169866.499042\n",
       "\n",
       "[150 rows x 1 columns]"
      ]
     },
     "execution_count": 32,
     "metadata": {},
     "output_type": "execute_result"
    }
   ],
   "source": [
    "pred_ = pd.DataFrame(pred, columns = [\"pred\"])\n",
    "pred_"
   ]
  },
  {
   "cell_type": "code",
   "execution_count": 33,
   "metadata": {},
   "outputs": [],
   "source": [
    "def model_selection(X,y,t_size):\n",
    "    X_train, X_test, y_train, y_test = train_test_split(X, y, test_size=t_size, random_state = 1)\n",
    "    X_train.shape\n",
    "    X_train.head()\n",
    "    from sklearn.linear_model import LinearRegression\n",
    "    model = LinearRegression()\n",
    "    model_train = model.fit(X_train, y_train)\n",
    "    model_score = model_train.score(X_train, y_train)\n",
    "    return model_score, X_train.shape"
   ]
  },
  {
   "cell_type": "code",
   "execution_count": 34,
   "metadata": {},
   "outputs": [
    {
     "name": "stdout",
     "output_type": "stream",
     "text": [
      "(0.9624409536748895, (850, 3))\n"
     ]
    }
   ],
   "source": [
    "print(model_selection(X, y, 0.15))"
   ]
  },
  {
   "cell_type": "code",
   "execution_count": null,
   "metadata": {},
   "outputs": [],
   "source": []
  }
 ],
 "metadata": {
  "kernelspec": {
   "display_name": "Python 3",
   "language": "python",
   "name": "python3"
  },
  "language_info": {
   "codemirror_mode": {
    "name": "ipython",
    "version": 3
   },
   "file_extension": ".py",
   "mimetype": "text/x-python",
   "name": "python",
   "nbconvert_exporter": "python",
   "pygments_lexer": "ipython3",
   "version": "3.8.5"
  }
 },
 "nbformat": 4,
 "nbformat_minor": 4
}

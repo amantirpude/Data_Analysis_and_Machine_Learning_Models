{
 "cells": [
  {
   "cell_type": "code",
   "execution_count": 1,
   "metadata": {},
   "outputs": [],
   "source": [
    "import pandas as pd\n",
    "import seaborn as sns\n",
    "import matplotlib.pyplot as plt\n",
    "import numpy as np"
   ]
  },
  {
   "cell_type": "code",
   "execution_count": 2,
   "metadata": {},
   "outputs": [
    {
     "data": {
      "text/html": [
       "<div>\n",
       "<style scoped>\n",
       "    .dataframe tbody tr th:only-of-type {\n",
       "        vertical-align: middle;\n",
       "    }\n",
       "\n",
       "    .dataframe tbody tr th {\n",
       "        vertical-align: top;\n",
       "    }\n",
       "\n",
       "    .dataframe thead th {\n",
       "        text-align: right;\n",
       "    }\n",
       "</style>\n",
       "<table border=\"1\" class=\"dataframe\">\n",
       "  <thead>\n",
       "    <tr style=\"text-align: right;\">\n",
       "      <th></th>\n",
       "      <th>State</th>\n",
       "      <th>Account length</th>\n",
       "      <th>Area code</th>\n",
       "      <th>International plan</th>\n",
       "      <th>Voice mail plan</th>\n",
       "      <th>Number vmail messages</th>\n",
       "      <th>Total day minutes</th>\n",
       "      <th>Total day calls</th>\n",
       "      <th>Total day charge</th>\n",
       "      <th>Total eve minutes</th>\n",
       "      <th>Total eve calls</th>\n",
       "      <th>Total eve charge</th>\n",
       "      <th>Total night minutes</th>\n",
       "      <th>Total night calls</th>\n",
       "      <th>Total night charge</th>\n",
       "      <th>Total intl minutes</th>\n",
       "      <th>Total intl calls</th>\n",
       "      <th>Total intl charge</th>\n",
       "      <th>Customer service calls</th>\n",
       "      <th>Churn</th>\n",
       "    </tr>\n",
       "  </thead>\n",
       "  <tbody>\n",
       "    <tr>\n",
       "      <th>0</th>\n",
       "      <td>KS</td>\n",
       "      <td>128</td>\n",
       "      <td>415</td>\n",
       "      <td>No</td>\n",
       "      <td>Yes</td>\n",
       "      <td>25</td>\n",
       "      <td>265.1</td>\n",
       "      <td>110</td>\n",
       "      <td>45.07</td>\n",
       "      <td>197.4</td>\n",
       "      <td>99</td>\n",
       "      <td>16.78</td>\n",
       "      <td>244.7</td>\n",
       "      <td>91</td>\n",
       "      <td>11.01</td>\n",
       "      <td>10.0</td>\n",
       "      <td>3</td>\n",
       "      <td>2.70</td>\n",
       "      <td>1</td>\n",
       "      <td>False</td>\n",
       "    </tr>\n",
       "    <tr>\n",
       "      <th>1</th>\n",
       "      <td>OH</td>\n",
       "      <td>107</td>\n",
       "      <td>415</td>\n",
       "      <td>No</td>\n",
       "      <td>Yes</td>\n",
       "      <td>26</td>\n",
       "      <td>161.6</td>\n",
       "      <td>123</td>\n",
       "      <td>27.47</td>\n",
       "      <td>195.5</td>\n",
       "      <td>103</td>\n",
       "      <td>16.62</td>\n",
       "      <td>254.4</td>\n",
       "      <td>103</td>\n",
       "      <td>11.45</td>\n",
       "      <td>13.7</td>\n",
       "      <td>3</td>\n",
       "      <td>3.70</td>\n",
       "      <td>1</td>\n",
       "      <td>False</td>\n",
       "    </tr>\n",
       "    <tr>\n",
       "      <th>2</th>\n",
       "      <td>NJ</td>\n",
       "      <td>137</td>\n",
       "      <td>415</td>\n",
       "      <td>No</td>\n",
       "      <td>No</td>\n",
       "      <td>0</td>\n",
       "      <td>243.4</td>\n",
       "      <td>114</td>\n",
       "      <td>41.38</td>\n",
       "      <td>121.2</td>\n",
       "      <td>110</td>\n",
       "      <td>10.30</td>\n",
       "      <td>162.6</td>\n",
       "      <td>104</td>\n",
       "      <td>7.32</td>\n",
       "      <td>12.2</td>\n",
       "      <td>5</td>\n",
       "      <td>3.29</td>\n",
       "      <td>0</td>\n",
       "      <td>False</td>\n",
       "    </tr>\n",
       "    <tr>\n",
       "      <th>3</th>\n",
       "      <td>OH</td>\n",
       "      <td>84</td>\n",
       "      <td>408</td>\n",
       "      <td>Yes</td>\n",
       "      <td>No</td>\n",
       "      <td>0</td>\n",
       "      <td>299.4</td>\n",
       "      <td>71</td>\n",
       "      <td>50.90</td>\n",
       "      <td>61.9</td>\n",
       "      <td>88</td>\n",
       "      <td>5.26</td>\n",
       "      <td>196.9</td>\n",
       "      <td>89</td>\n",
       "      <td>8.86</td>\n",
       "      <td>6.6</td>\n",
       "      <td>7</td>\n",
       "      <td>1.78</td>\n",
       "      <td>2</td>\n",
       "      <td>False</td>\n",
       "    </tr>\n",
       "    <tr>\n",
       "      <th>4</th>\n",
       "      <td>OK</td>\n",
       "      <td>75</td>\n",
       "      <td>415</td>\n",
       "      <td>Yes</td>\n",
       "      <td>No</td>\n",
       "      <td>0</td>\n",
       "      <td>166.7</td>\n",
       "      <td>113</td>\n",
       "      <td>28.34</td>\n",
       "      <td>148.3</td>\n",
       "      <td>122</td>\n",
       "      <td>12.61</td>\n",
       "      <td>186.9</td>\n",
       "      <td>121</td>\n",
       "      <td>8.41</td>\n",
       "      <td>10.1</td>\n",
       "      <td>3</td>\n",
       "      <td>2.73</td>\n",
       "      <td>3</td>\n",
       "      <td>False</td>\n",
       "    </tr>\n",
       "  </tbody>\n",
       "</table>\n",
       "</div>"
      ],
      "text/plain": [
       "  State  Account length  Area code International plan Voice mail plan  \\\n",
       "0    KS             128        415                 No             Yes   \n",
       "1    OH             107        415                 No             Yes   \n",
       "2    NJ             137        415                 No              No   \n",
       "3    OH              84        408                Yes              No   \n",
       "4    OK              75        415                Yes              No   \n",
       "\n",
       "   Number vmail messages  Total day minutes  Total day calls  \\\n",
       "0                     25              265.1              110   \n",
       "1                     26              161.6              123   \n",
       "2                      0              243.4              114   \n",
       "3                      0              299.4               71   \n",
       "4                      0              166.7              113   \n",
       "\n",
       "   Total day charge  Total eve minutes  Total eve calls  Total eve charge  \\\n",
       "0             45.07              197.4               99             16.78   \n",
       "1             27.47              195.5              103             16.62   \n",
       "2             41.38              121.2              110             10.30   \n",
       "3             50.90               61.9               88              5.26   \n",
       "4             28.34              148.3              122             12.61   \n",
       "\n",
       "   Total night minutes  Total night calls  Total night charge  \\\n",
       "0                244.7                 91               11.01   \n",
       "1                254.4                103               11.45   \n",
       "2                162.6                104                7.32   \n",
       "3                196.9                 89                8.86   \n",
       "4                186.9                121                8.41   \n",
       "\n",
       "   Total intl minutes  Total intl calls  Total intl charge  \\\n",
       "0                10.0                 3               2.70   \n",
       "1                13.7                 3               3.70   \n",
       "2                12.2                 5               3.29   \n",
       "3                 6.6                 7               1.78   \n",
       "4                10.1                 3               2.73   \n",
       "\n",
       "   Customer service calls  Churn  \n",
       "0                       1  False  \n",
       "1                       1  False  \n",
       "2                       0  False  \n",
       "3                       2  False  \n",
       "4                       3  False  "
      ]
     },
     "execution_count": 2,
     "metadata": {},
     "output_type": "execute_result"
    }
   ],
   "source": [
    "### Read a csv file\n",
    "df = pd.read_csv(\"D:/Topmentor_Python_Class/Telecom Retention_Telo company.csv\")\n",
    "df.head()"
   ]
  },
  {
   "cell_type": "code",
   "execution_count": 3,
   "metadata": {},
   "outputs": [],
   "source": [
    "telecom_data = df.copy()"
   ]
  },
  {
   "cell_type": "code",
   "execution_count": 4,
   "metadata": {},
   "outputs": [
    {
     "data": {
      "text/html": [
       "<div>\n",
       "<style scoped>\n",
       "    .dataframe tbody tr th:only-of-type {\n",
       "        vertical-align: middle;\n",
       "    }\n",
       "\n",
       "    .dataframe tbody tr th {\n",
       "        vertical-align: top;\n",
       "    }\n",
       "\n",
       "    .dataframe thead th {\n",
       "        text-align: right;\n",
       "    }\n",
       "</style>\n",
       "<table border=\"1\" class=\"dataframe\">\n",
       "  <thead>\n",
       "    <tr style=\"text-align: right;\">\n",
       "      <th></th>\n",
       "      <th>State</th>\n",
       "      <th>Account length</th>\n",
       "      <th>Area code</th>\n",
       "      <th>International plan</th>\n",
       "      <th>Voice mail plan</th>\n",
       "      <th>Number vmail messages</th>\n",
       "      <th>Total day minutes</th>\n",
       "      <th>Total day calls</th>\n",
       "      <th>Total day charge</th>\n",
       "      <th>Total eve minutes</th>\n",
       "      <th>Total eve calls</th>\n",
       "      <th>Total eve charge</th>\n",
       "      <th>Total night minutes</th>\n",
       "      <th>Total night calls</th>\n",
       "      <th>Total night charge</th>\n",
       "      <th>Total intl minutes</th>\n",
       "      <th>Total intl calls</th>\n",
       "      <th>Total intl charge</th>\n",
       "      <th>Customer service calls</th>\n",
       "      <th>Churn</th>\n",
       "    </tr>\n",
       "  </thead>\n",
       "  <tbody>\n",
       "    <tr>\n",
       "      <th>0</th>\n",
       "      <td>KS</td>\n",
       "      <td>128</td>\n",
       "      <td>415</td>\n",
       "      <td>No</td>\n",
       "      <td>Yes</td>\n",
       "      <td>25</td>\n",
       "      <td>265.1</td>\n",
       "      <td>110</td>\n",
       "      <td>45.07</td>\n",
       "      <td>197.4</td>\n",
       "      <td>99</td>\n",
       "      <td>16.78</td>\n",
       "      <td>244.7</td>\n",
       "      <td>91</td>\n",
       "      <td>11.01</td>\n",
       "      <td>10.0</td>\n",
       "      <td>3</td>\n",
       "      <td>2.70</td>\n",
       "      <td>1</td>\n",
       "      <td>False</td>\n",
       "    </tr>\n",
       "    <tr>\n",
       "      <th>1</th>\n",
       "      <td>OH</td>\n",
       "      <td>107</td>\n",
       "      <td>415</td>\n",
       "      <td>No</td>\n",
       "      <td>Yes</td>\n",
       "      <td>26</td>\n",
       "      <td>161.6</td>\n",
       "      <td>123</td>\n",
       "      <td>27.47</td>\n",
       "      <td>195.5</td>\n",
       "      <td>103</td>\n",
       "      <td>16.62</td>\n",
       "      <td>254.4</td>\n",
       "      <td>103</td>\n",
       "      <td>11.45</td>\n",
       "      <td>13.7</td>\n",
       "      <td>3</td>\n",
       "      <td>3.70</td>\n",
       "      <td>1</td>\n",
       "      <td>False</td>\n",
       "    </tr>\n",
       "    <tr>\n",
       "      <th>2</th>\n",
       "      <td>NJ</td>\n",
       "      <td>137</td>\n",
       "      <td>415</td>\n",
       "      <td>No</td>\n",
       "      <td>No</td>\n",
       "      <td>0</td>\n",
       "      <td>243.4</td>\n",
       "      <td>114</td>\n",
       "      <td>41.38</td>\n",
       "      <td>121.2</td>\n",
       "      <td>110</td>\n",
       "      <td>10.30</td>\n",
       "      <td>162.6</td>\n",
       "      <td>104</td>\n",
       "      <td>7.32</td>\n",
       "      <td>12.2</td>\n",
       "      <td>5</td>\n",
       "      <td>3.29</td>\n",
       "      <td>0</td>\n",
       "      <td>False</td>\n",
       "    </tr>\n",
       "    <tr>\n",
       "      <th>3</th>\n",
       "      <td>OH</td>\n",
       "      <td>84</td>\n",
       "      <td>408</td>\n",
       "      <td>Yes</td>\n",
       "      <td>No</td>\n",
       "      <td>0</td>\n",
       "      <td>299.4</td>\n",
       "      <td>71</td>\n",
       "      <td>50.90</td>\n",
       "      <td>61.9</td>\n",
       "      <td>88</td>\n",
       "      <td>5.26</td>\n",
       "      <td>196.9</td>\n",
       "      <td>89</td>\n",
       "      <td>8.86</td>\n",
       "      <td>6.6</td>\n",
       "      <td>7</td>\n",
       "      <td>1.78</td>\n",
       "      <td>2</td>\n",
       "      <td>False</td>\n",
       "    </tr>\n",
       "    <tr>\n",
       "      <th>4</th>\n",
       "      <td>OK</td>\n",
       "      <td>75</td>\n",
       "      <td>415</td>\n",
       "      <td>Yes</td>\n",
       "      <td>No</td>\n",
       "      <td>0</td>\n",
       "      <td>166.7</td>\n",
       "      <td>113</td>\n",
       "      <td>28.34</td>\n",
       "      <td>148.3</td>\n",
       "      <td>122</td>\n",
       "      <td>12.61</td>\n",
       "      <td>186.9</td>\n",
       "      <td>121</td>\n",
       "      <td>8.41</td>\n",
       "      <td>10.1</td>\n",
       "      <td>3</td>\n",
       "      <td>2.73</td>\n",
       "      <td>3</td>\n",
       "      <td>False</td>\n",
       "    </tr>\n",
       "  </tbody>\n",
       "</table>\n",
       "</div>"
      ],
      "text/plain": [
       "  State  Account length  Area code International plan Voice mail plan  \\\n",
       "0    KS             128        415                 No             Yes   \n",
       "1    OH             107        415                 No             Yes   \n",
       "2    NJ             137        415                 No              No   \n",
       "3    OH              84        408                Yes              No   \n",
       "4    OK              75        415                Yes              No   \n",
       "\n",
       "   Number vmail messages  Total day minutes  Total day calls  \\\n",
       "0                     25              265.1              110   \n",
       "1                     26              161.6              123   \n",
       "2                      0              243.4              114   \n",
       "3                      0              299.4               71   \n",
       "4                      0              166.7              113   \n",
       "\n",
       "   Total day charge  Total eve minutes  Total eve calls  Total eve charge  \\\n",
       "0             45.07              197.4               99             16.78   \n",
       "1             27.47              195.5              103             16.62   \n",
       "2             41.38              121.2              110             10.30   \n",
       "3             50.90               61.9               88              5.26   \n",
       "4             28.34              148.3              122             12.61   \n",
       "\n",
       "   Total night minutes  Total night calls  Total night charge  \\\n",
       "0                244.7                 91               11.01   \n",
       "1                254.4                103               11.45   \n",
       "2                162.6                104                7.32   \n",
       "3                196.9                 89                8.86   \n",
       "4                186.9                121                8.41   \n",
       "\n",
       "   Total intl minutes  Total intl calls  Total intl charge  \\\n",
       "0                10.0                 3               2.70   \n",
       "1                13.7                 3               3.70   \n",
       "2                12.2                 5               3.29   \n",
       "3                 6.6                 7               1.78   \n",
       "4                10.1                 3               2.73   \n",
       "\n",
       "   Customer service calls  Churn  \n",
       "0                       1  False  \n",
       "1                       1  False  \n",
       "2                       0  False  \n",
       "3                       2  False  \n",
       "4                       3  False  "
      ]
     },
     "execution_count": 4,
     "metadata": {},
     "output_type": "execute_result"
    }
   ],
   "source": [
    "telecom_data.head()"
   ]
  },
  {
   "cell_type": "code",
   "execution_count": 5,
   "metadata": {},
   "outputs": [
    {
     "data": {
      "text/plain": [
       "State                     0\n",
       "Account length            0\n",
       "Area code                 0\n",
       "International plan        0\n",
       "Voice mail plan           0\n",
       "Number vmail messages     0\n",
       "Total day minutes         0\n",
       "Total day calls           0\n",
       "Total day charge          0\n",
       "Total eve minutes         0\n",
       "Total eve calls           0\n",
       "Total eve charge          0\n",
       "Total night minutes       0\n",
       "Total night calls         0\n",
       "Total night charge        0\n",
       "Total intl minutes        0\n",
       "Total intl calls          0\n",
       "Total intl charge         0\n",
       "Customer service calls    0\n",
       "Churn                     0\n",
       "dtype: int64"
      ]
     },
     "execution_count": 5,
     "metadata": {},
     "output_type": "execute_result"
    }
   ],
   "source": [
    "### Check the null or missing values\n",
    "telecom_data.isnull().sum()"
   ]
  },
  {
   "cell_type": "code",
   "execution_count": 6,
   "metadata": {},
   "outputs": [
    {
     "data": {
      "text/html": [
       "<div>\n",
       "<style scoped>\n",
       "    .dataframe tbody tr th:only-of-type {\n",
       "        vertical-align: middle;\n",
       "    }\n",
       "\n",
       "    .dataframe tbody tr th {\n",
       "        vertical-align: top;\n",
       "    }\n",
       "\n",
       "    .dataframe thead th {\n",
       "        text-align: right;\n",
       "    }\n",
       "</style>\n",
       "<table border=\"1\" class=\"dataframe\">\n",
       "  <thead>\n",
       "    <tr style=\"text-align: right;\">\n",
       "      <th></th>\n",
       "      <th>Account length</th>\n",
       "      <th>Area code</th>\n",
       "      <th>Number vmail messages</th>\n",
       "      <th>Total day minutes</th>\n",
       "      <th>Total day calls</th>\n",
       "      <th>Total day charge</th>\n",
       "      <th>Total eve minutes</th>\n",
       "      <th>Total eve calls</th>\n",
       "      <th>Total eve charge</th>\n",
       "      <th>Total night minutes</th>\n",
       "      <th>Total night calls</th>\n",
       "      <th>Total night charge</th>\n",
       "      <th>Total intl minutes</th>\n",
       "      <th>Total intl calls</th>\n",
       "      <th>Total intl charge</th>\n",
       "      <th>Customer service calls</th>\n",
       "    </tr>\n",
       "  </thead>\n",
       "  <tbody>\n",
       "    <tr>\n",
       "      <th>count</th>\n",
       "      <td>2666.000000</td>\n",
       "      <td>2666.000000</td>\n",
       "      <td>2666.000000</td>\n",
       "      <td>2666.00000</td>\n",
       "      <td>2666.000000</td>\n",
       "      <td>2666.000000</td>\n",
       "      <td>2666.000000</td>\n",
       "      <td>2666.000000</td>\n",
       "      <td>2666.000000</td>\n",
       "      <td>2666.000000</td>\n",
       "      <td>2666.000000</td>\n",
       "      <td>2666.000000</td>\n",
       "      <td>2666.000000</td>\n",
       "      <td>2666.000000</td>\n",
       "      <td>2666.000000</td>\n",
       "      <td>2666.000000</td>\n",
       "    </tr>\n",
       "    <tr>\n",
       "      <th>mean</th>\n",
       "      <td>100.620405</td>\n",
       "      <td>437.438860</td>\n",
       "      <td>8.021755</td>\n",
       "      <td>179.48162</td>\n",
       "      <td>100.310203</td>\n",
       "      <td>30.512404</td>\n",
       "      <td>200.386159</td>\n",
       "      <td>100.023631</td>\n",
       "      <td>17.033072</td>\n",
       "      <td>201.168942</td>\n",
       "      <td>100.106152</td>\n",
       "      <td>9.052689</td>\n",
       "      <td>10.237022</td>\n",
       "      <td>4.467367</td>\n",
       "      <td>2.764490</td>\n",
       "      <td>1.562641</td>\n",
       "    </tr>\n",
       "    <tr>\n",
       "      <th>std</th>\n",
       "      <td>39.563974</td>\n",
       "      <td>42.521018</td>\n",
       "      <td>13.612277</td>\n",
       "      <td>54.21035</td>\n",
       "      <td>19.988162</td>\n",
       "      <td>9.215733</td>\n",
       "      <td>50.951515</td>\n",
       "      <td>20.161445</td>\n",
       "      <td>4.330864</td>\n",
       "      <td>50.780323</td>\n",
       "      <td>19.418459</td>\n",
       "      <td>2.285120</td>\n",
       "      <td>2.788349</td>\n",
       "      <td>2.456195</td>\n",
       "      <td>0.752812</td>\n",
       "      <td>1.311236</td>\n",
       "    </tr>\n",
       "    <tr>\n",
       "      <th>min</th>\n",
       "      <td>1.000000</td>\n",
       "      <td>408.000000</td>\n",
       "      <td>0.000000</td>\n",
       "      <td>0.00000</td>\n",
       "      <td>0.000000</td>\n",
       "      <td>0.000000</td>\n",
       "      <td>0.000000</td>\n",
       "      <td>0.000000</td>\n",
       "      <td>0.000000</td>\n",
       "      <td>43.700000</td>\n",
       "      <td>33.000000</td>\n",
       "      <td>1.970000</td>\n",
       "      <td>0.000000</td>\n",
       "      <td>0.000000</td>\n",
       "      <td>0.000000</td>\n",
       "      <td>0.000000</td>\n",
       "    </tr>\n",
       "    <tr>\n",
       "      <th>25%</th>\n",
       "      <td>73.000000</td>\n",
       "      <td>408.000000</td>\n",
       "      <td>0.000000</td>\n",
       "      <td>143.40000</td>\n",
       "      <td>87.000000</td>\n",
       "      <td>24.380000</td>\n",
       "      <td>165.300000</td>\n",
       "      <td>87.000000</td>\n",
       "      <td>14.050000</td>\n",
       "      <td>166.925000</td>\n",
       "      <td>87.000000</td>\n",
       "      <td>7.512500</td>\n",
       "      <td>8.500000</td>\n",
       "      <td>3.000000</td>\n",
       "      <td>2.300000</td>\n",
       "      <td>1.000000</td>\n",
       "    </tr>\n",
       "    <tr>\n",
       "      <th>50%</th>\n",
       "      <td>100.000000</td>\n",
       "      <td>415.000000</td>\n",
       "      <td>0.000000</td>\n",
       "      <td>179.95000</td>\n",
       "      <td>101.000000</td>\n",
       "      <td>30.590000</td>\n",
       "      <td>200.900000</td>\n",
       "      <td>100.000000</td>\n",
       "      <td>17.080000</td>\n",
       "      <td>201.150000</td>\n",
       "      <td>100.000000</td>\n",
       "      <td>9.050000</td>\n",
       "      <td>10.200000</td>\n",
       "      <td>4.000000</td>\n",
       "      <td>2.750000</td>\n",
       "      <td>1.000000</td>\n",
       "    </tr>\n",
       "    <tr>\n",
       "      <th>75%</th>\n",
       "      <td>127.000000</td>\n",
       "      <td>510.000000</td>\n",
       "      <td>19.000000</td>\n",
       "      <td>215.90000</td>\n",
       "      <td>114.000000</td>\n",
       "      <td>36.700000</td>\n",
       "      <td>235.100000</td>\n",
       "      <td>114.000000</td>\n",
       "      <td>19.980000</td>\n",
       "      <td>236.475000</td>\n",
       "      <td>113.000000</td>\n",
       "      <td>10.640000</td>\n",
       "      <td>12.100000</td>\n",
       "      <td>6.000000</td>\n",
       "      <td>3.270000</td>\n",
       "      <td>2.000000</td>\n",
       "    </tr>\n",
       "    <tr>\n",
       "      <th>max</th>\n",
       "      <td>243.000000</td>\n",
       "      <td>510.000000</td>\n",
       "      <td>50.000000</td>\n",
       "      <td>350.80000</td>\n",
       "      <td>160.000000</td>\n",
       "      <td>59.640000</td>\n",
       "      <td>363.700000</td>\n",
       "      <td>170.000000</td>\n",
       "      <td>30.910000</td>\n",
       "      <td>395.000000</td>\n",
       "      <td>166.000000</td>\n",
       "      <td>17.770000</td>\n",
       "      <td>20.000000</td>\n",
       "      <td>20.000000</td>\n",
       "      <td>5.400000</td>\n",
       "      <td>9.000000</td>\n",
       "    </tr>\n",
       "  </tbody>\n",
       "</table>\n",
       "</div>"
      ],
      "text/plain": [
       "       Account length    Area code  Number vmail messages  Total day minutes  \\\n",
       "count     2666.000000  2666.000000            2666.000000         2666.00000   \n",
       "mean       100.620405   437.438860               8.021755          179.48162   \n",
       "std         39.563974    42.521018              13.612277           54.21035   \n",
       "min          1.000000   408.000000               0.000000            0.00000   \n",
       "25%         73.000000   408.000000               0.000000          143.40000   \n",
       "50%        100.000000   415.000000               0.000000          179.95000   \n",
       "75%        127.000000   510.000000              19.000000          215.90000   \n",
       "max        243.000000   510.000000              50.000000          350.80000   \n",
       "\n",
       "       Total day calls  Total day charge  Total eve minutes  Total eve calls  \\\n",
       "count      2666.000000       2666.000000        2666.000000      2666.000000   \n",
       "mean        100.310203         30.512404         200.386159       100.023631   \n",
       "std          19.988162          9.215733          50.951515        20.161445   \n",
       "min           0.000000          0.000000           0.000000         0.000000   \n",
       "25%          87.000000         24.380000         165.300000        87.000000   \n",
       "50%         101.000000         30.590000         200.900000       100.000000   \n",
       "75%         114.000000         36.700000         235.100000       114.000000   \n",
       "max         160.000000         59.640000         363.700000       170.000000   \n",
       "\n",
       "       Total eve charge  Total night minutes  Total night calls  \\\n",
       "count       2666.000000          2666.000000        2666.000000   \n",
       "mean          17.033072           201.168942         100.106152   \n",
       "std            4.330864            50.780323          19.418459   \n",
       "min            0.000000            43.700000          33.000000   \n",
       "25%           14.050000           166.925000          87.000000   \n",
       "50%           17.080000           201.150000         100.000000   \n",
       "75%           19.980000           236.475000         113.000000   \n",
       "max           30.910000           395.000000         166.000000   \n",
       "\n",
       "       Total night charge  Total intl minutes  Total intl calls  \\\n",
       "count         2666.000000         2666.000000       2666.000000   \n",
       "mean             9.052689           10.237022          4.467367   \n",
       "std              2.285120            2.788349          2.456195   \n",
       "min              1.970000            0.000000          0.000000   \n",
       "25%              7.512500            8.500000          3.000000   \n",
       "50%              9.050000           10.200000          4.000000   \n",
       "75%             10.640000           12.100000          6.000000   \n",
       "max             17.770000           20.000000         20.000000   \n",
       "\n",
       "       Total intl charge  Customer service calls  \n",
       "count        2666.000000             2666.000000  \n",
       "mean            2.764490                1.562641  \n",
       "std             0.752812                1.311236  \n",
       "min             0.000000                0.000000  \n",
       "25%             2.300000                1.000000  \n",
       "50%             2.750000                1.000000  \n",
       "75%             3.270000                2.000000  \n",
       "max             5.400000                9.000000  "
      ]
     },
     "execution_count": 6,
     "metadata": {},
     "output_type": "execute_result"
    }
   ],
   "source": [
    "# Get the Statistical info. on numerical features\n",
    "telecom_data.describe()"
   ]
  },
  {
   "cell_type": "code",
   "execution_count": 7,
   "metadata": {},
   "outputs": [
    {
     "name": "stdout",
     "output_type": "stream",
     "text": [
      "<class 'pandas.core.frame.DataFrame'>\n",
      "RangeIndex: 2666 entries, 0 to 2665\n",
      "Data columns (total 20 columns):\n",
      " #   Column                  Non-Null Count  Dtype  \n",
      "---  ------                  --------------  -----  \n",
      " 0   State                   2666 non-null   object \n",
      " 1   Account length          2666 non-null   int64  \n",
      " 2   Area code               2666 non-null   int64  \n",
      " 3   International plan      2666 non-null   object \n",
      " 4   Voice mail plan         2666 non-null   object \n",
      " 5   Number vmail messages   2666 non-null   int64  \n",
      " 6   Total day minutes       2666 non-null   float64\n",
      " 7   Total day calls         2666 non-null   int64  \n",
      " 8   Total day charge        2666 non-null   float64\n",
      " 9   Total eve minutes       2666 non-null   float64\n",
      " 10  Total eve calls         2666 non-null   int64  \n",
      " 11  Total eve charge        2666 non-null   float64\n",
      " 12  Total night minutes     2666 non-null   float64\n",
      " 13  Total night calls       2666 non-null   int64  \n",
      " 14  Total night charge      2666 non-null   float64\n",
      " 15  Total intl minutes      2666 non-null   float64\n",
      " 16  Total intl calls        2666 non-null   int64  \n",
      " 17  Total intl charge       2666 non-null   float64\n",
      " 18  Customer service calls  2666 non-null   int64  \n",
      " 19  Churn                   2666 non-null   bool   \n",
      "dtypes: bool(1), float64(8), int64(8), object(3)\n",
      "memory usage: 398.5+ KB\n"
     ]
    }
   ],
   "source": [
    "# Get the summary of data frame including data type, shape, memory usage\n",
    "telecom_data.info()"
   ]
  },
  {
   "cell_type": "code",
   "execution_count": 8,
   "metadata": {},
   "outputs": [
    {
     "data": {
      "text/plain": [
       "(2666, 20)"
      ]
     },
     "execution_count": 8,
     "metadata": {},
     "output_type": "execute_result"
    }
   ],
   "source": [
    "# get the shape of a Data frame\n",
    "telecom_data.shape"
   ]
  },
  {
   "cell_type": "code",
   "execution_count": 9,
   "metadata": {},
   "outputs": [
    {
     "data": {
      "text/plain": [
       "Index(['State', 'Account length', 'Area code', 'International plan',\n",
       "       'Voice mail plan', 'Number vmail messages', 'Total day minutes',\n",
       "       'Total day calls', 'Total day charge', 'Total eve minutes',\n",
       "       'Total eve calls', 'Total eve charge', 'Total night minutes',\n",
       "       'Total night calls', 'Total night charge', 'Total intl minutes',\n",
       "       'Total intl calls', 'Total intl charge', 'Customer service calls',\n",
       "       'Churn'],\n",
       "      dtype='object')"
      ]
     },
     "execution_count": 9,
     "metadata": {},
     "output_type": "execute_result"
    }
   ],
   "source": [
    "## Print the name of the columns present in the data set\n",
    "telecom_data.columns"
   ]
  },
  {
   "cell_type": "code",
   "execution_count": 10,
   "metadata": {},
   "outputs": [],
   "source": [
    "# change the type of column 'Churn' \n",
    "telecom_data['Churn'] = telecom_data['Churn'].astype('int64')"
   ]
  },
  {
   "cell_type": "code",
   "execution_count": 11,
   "metadata": {},
   "outputs": [
    {
     "name": "stdout",
     "output_type": "stream",
     "text": [
      "Unique State's count : ['KS' 'OH' 'NJ' 'OK' 'AL' 'MA' 'MO' 'WV' 'RI' 'IA' 'MT' 'ID' 'VT' 'VA'\n",
      " 'TX' 'FL' 'CO' 'AZ' 'NE' 'WY' 'IL' 'NH' 'LA' 'GA' 'AK' 'MD' 'AR' 'WI'\n",
      " 'OR' 'DE' 'IN' 'UT' 'CA' 'SD' 'NC' 'WA' 'MN' 'NM' 'NV' 'DC' 'NY' 'KY'\n",
      " 'ME' 'MS' 'MI' 'SC' 'TN' 'PA' 'HI' 'ND' 'CT']\n",
      "\n",
      "(51,)\n",
      "\n",
      "Unique Account length's count : [128 107 137  84  75 118 121 147 141  74 168  95  62  85  93  76  73  77\n",
      " 130 132 174  57  54  20 142 172  12  72  78 136 149  98 135  34 160  64\n",
      "  59  97  52  60  96  87  81 125 116  38  40  43 113 126 150 138 162  90\n",
      "  50  82 144  70  55 106  94 111  80 104  99 120 122 157 103  36 112  46\n",
      "  41 193  61  92 131 163  91 127 110 117 140  83 145  56 151 139 115 146\n",
      " 185 148  68 179  67  19 170 164  51  63  53 105  66  86  35  88 123 100\n",
      " 108  22  33 114  24 119 101  49  48  71 167 166 158 196 209  16  39 173\n",
      " 129 143  89  44  79  31  37 159 194 154  45  32  21 133  25 224  58 155\n",
      "  11 109 165  18 161 124  30 176  47 190 152  65 186 171 102  28 153 169\n",
      "  13  42 189  69  27 134 156 243  23 205 200   5   9 178 181 182 177 210\n",
      " 180   3  10   2  17 212   1  29 192 195   6 225 184 197  15 183 202   8\n",
      " 217   4 188   7 204 201 221]\n",
      "\n",
      "(205,)\n",
      "\n",
      "Unique Area code's count : [415 408 510]\n",
      "\n",
      "(3,)\n",
      "\n",
      "Unique International plan's count : ['No' 'Yes']\n",
      "\n",
      "(2,)\n",
      "\n",
      "Unique Voice mail plan's count : ['Yes' 'No']\n",
      "\n",
      "(2,)\n",
      "\n",
      "Unique Number vmail messages's count : [25 26  0 24 37 27 33 39 41 28 30 34 46 35 21 42 36 22 23 43 31 38 40 29\n",
      " 18 32 17 45 16 14 20 19 15 12 47  8 44  4 10 13 50  9]\n",
      "\n",
      "(42,)\n",
      "\n",
      "Unique Total day minutes's count : [265.1 161.6 243.4 ... 106.6 231.1 180.8]\n",
      "\n",
      "(1489,)\n",
      "\n",
      "Unique Total day calls's count : [110 123 114  71 113  98  88  79  84 127  96  70 139  66  90 117  89 112\n",
      "  86  76 115  73 109  95 105 121 118  94  80  64 106 102  85  82  77  67\n",
      "  97 133 135 108  57  83 129 103  92  74  93 101 146  99 104 125  61 100\n",
      "  87 131  65 124 119  52  68 107  47 116 120 151 126  91 122 111 145  78\n",
      " 136 140  81 128  69 158 134 130  63  53  75 141  59 132 138 137  54  58\n",
      "  62  36  72  40 150 147  56  51  55 148  48  60  42   0  45 160 149 144\n",
      " 143 152 142 156  49 157  44]\n",
      "\n",
      "(115,)\n",
      "\n",
      "Unique Total day charge's count : [45.07 27.47 41.38 ... 18.12 39.29 30.74]\n",
      "\n",
      "(1489,)\n",
      "\n",
      "Unique Total eve minutes's count : [197.4 195.5 121.2 ... 153.4 288.8 265.9]\n",
      "\n",
      "(1442,)\n",
      "\n",
      "Unique Total eve calls's count : [ 99 103 110  88 122 101 108  94 111 148  71  75  76  90  65  93 121  72\n",
      " 112 100  84  63 107 115 119 102 116  92  85  98 118  74  58  96  67  62\n",
      "  77 126 142  64  97 104  80  83 117  79  95 105  81 113 109  48  82  86\n",
      "  87 123 114 140 128 106  60 125  46 138 129  89 133 136  57 135 139  51\n",
      "  70  78 151  91 152 120  66 127 132 137  73 143  68  61  42  54 149 124\n",
      " 134 131  69 130  52  49  59 146 147  55  12  50 157  56  45 144  36 156\n",
      "  53 141  44 153 154 155 150  43   0 145 159 170]\n",
      "\n",
      "(120,)\n",
      "\n",
      "Unique Total eve charge's count : [16.78 16.62 10.3  ... 13.04 24.55 22.6 ]\n",
      "\n",
      "(1301,)\n",
      "\n",
      "Unique Total night minutes's count : [244.7 254.4 162.6 ... 221.4 279.1 191.3]\n",
      "\n",
      "(1444,)\n",
      "\n",
      "Unique Total night calls's count : [ 91 103 104  89 121 118  96  97  94 128 115  99  75 108  74 133  64  78\n",
      "  68 102 148  98  90 116  71 107 135  92  86 127  79  87 129  77  95  54\n",
      " 106  53  67 139  60 100  61 109 105 111  73  76 119  88  84  57  62 137\n",
      " 113 114 126 122 123 117  82 120  80 130 134  59 112 132 142 101  69 131\n",
      " 110  83  93 124 136  81  66 143  55  56  70  85  46 152  44 145  58  50\n",
      "  42 153 125  49 138  72 154 140 141 146  63  65  51 151 158 157 147 144\n",
      " 149 166  33 155 156  38  36 150  48 164]\n",
      "\n",
      "(118,)\n",
      "\n",
      "Unique Total night charge's count : [11.01 11.45  7.32  8.86  8.41  9.18  9.57  9.53 14.69  8.82  6.35  8.65\n",
      "  9.14  4.02  5.83  7.46  8.68  9.4   9.43  8.18 10.67 11.28  8.22  4.59\n",
      "  8.17 11.27 11.08 13.2  12.61  9.61  6.88 10.25  4.58  8.47  8.45  5.5\n",
      " 14.02  8.03 11.94  7.34 10.9   3.18 10.66 11.21 10.28 12.16  6.34  8.15\n",
      "  8.52  7.5   7.48 11.95  7.15  9.63  7.1   5.82  6.91  6.69 13.29 11.46\n",
      "  7.76  6.86  8.16 12.15  7.79 10.29 10.08 12.53  7.91 10.02  8.61  8.53\n",
      "  8.21  9.09  4.93 11.39 11.88  5.75  8.59  7.52  7.21  8.1  11.19  8.55\n",
      "  9.76 10.86  5.36 10.03 11.15  6.22  2.59  7.65  7.99  9.    6.4   9.94\n",
      "  5.08 10.23 11.36  6.97 10.16  7.88 11.91  6.61 11.76  9.27  9.29 11.12\n",
      " 10.69  8.8  11.85  7.14  8.71 11.42  4.94  9.02 11.22  4.97  5.45 12.91\n",
      "  7.75  6.32 12.13 11.97  6.93 11.66  7.42  6.19 11.41 10.33 10.65 11.92\n",
      "  4.77  4.38  7.69  8.78  9.36  9.05 12.7   6.16  6.05 10.85  8.93  8.42\n",
      " 10.4   5.05 10.71  9.37  6.75  8.12 11.77 11.49 11.06 11.25 11.03 10.82\n",
      "  8.91  8.57 10.05 11.7  10.17  8.74  5.51 11.11  3.29 10.13  6.8   8.49\n",
      "  9.55 11.02  7.84 10.62  9.97  3.44  9.79  8.89  8.14  6.94 10.49 10.57\n",
      "  6.29  8.79 10.04 12.41 15.97  9.1  11.78 12.75 12.56  8.63  8.02 10.42\n",
      "  8.7   7.62  8.33 13.12 10.46  8.32  9.04  9.28 10.76  9.15 11.44  6.48\n",
      " 10.81 12.66  8.75 13.05 11.48  5.63  6.6  11.68  6.41  9.32  9.62  8.25\n",
      "  8.26 11.96  9.9   9.23  5.58  7.22  6.64 12.29 12.93 11.32  6.85  7.03\n",
      "  8.48  3.59  5.86  8.88  6.23  7.61  7.66 13.63  7.9  11.82 12.38  7.47\n",
      "  6.08  8.4   5.74 10.94 10.35 10.68  4.34  5.14  8.24  9.99  8.64 11.43\n",
      "  5.79 10.14 12.11  7.53 12.46  8.46  8.95  9.84 10.8  11.23 10.15  9.21\n",
      " 14.46  6.67 12.83  9.66 10.48  8.36  4.84  8.39 10.2   7.23  9.06  8.94\n",
      " 11.13  8.87  9.87 10.73  9.56 10.77  7.73  3.47 11.86  8.11  9.78  9.65\n",
      "  7.    7.39  9.88  6.56  5.92  6.95 15.71  8.06  4.86  5.21  6.92  6.15\n",
      " 12.62 12.26  8.19 11.65 11.62 10.83  7.92  7.35 13.01  9.91 13.26 12.22\n",
      " 11.58 10.06  5.97 10.99  8.38  8.08  5.71  3.41 11.34  9.98 12.63 11.79\n",
      "  7.64  6.58 10.84 10.22  6.52  7.63  5.11  5.89 10.78  8.97 10.44 10.5\n",
      "  9.35  5.66  9.83  5.44 11.93 12.06  8.85  8.66  6.73 10.21 11.59 13.87\n",
      "  8.04  7.77 10.39  5.54  6.62  7.6  13.33  6.24  6.3  11.07  6.79  8.28\n",
      "  9.03  9.71  8.07 12.14  7.54  7.67  5.47 13.46  8.81  8.51  6.43 12.01\n",
      " 12.08  7.07  6.51  6.84  9.48 13.78 11.54 11.67  9.38  8.13 10.79  9.72\n",
      "  7.13  4.72 11.55  4.64  8.09  6.07  3.51  6.83  9.31  9.51  5.32 13.82\n",
      "  8.44  5.77 10.96  8.73 11.74  8.9  10.47  7.85 12.1  10.92  4.74  9.3\n",
      "  9.74 10.43 12.95 10.18  9.54  7.89 12.36  8.54 10.07  9.46  9.17  7.3\n",
      " 11.16  9.16 10.19 10.88  5.8   4.55  8.31 14.43  8.3   8.2  11.31 10.54\n",
      "  6.03  6.42  6.02  7.44  7.51  6.06 13.1   9.49  6.14  8.76  6.65 11.89\n",
      " 10.56  6.72  8.29 12.09  5.39  2.96  7.59  7.24  4.28  9.7  13.3   9.33\n",
      "  5.01 11.71  8.43  9.8   3.61  6.96  6.59  6.44 11.61 12.81 10.87 13.84\n",
      "  5.03 13.03  5.17  2.03  8.83 10.34  9.34  9.95  7.11  9.22 11.05  9.89\n",
      "  9.39 14.06 10.26 13.31 15.43 16.39  6.27 11.5  12.48 13.53 12.24  8.69\n",
      " 10.52  9.2  11.51  7.8   8.58  8.72  6.78  8.6   5.78  7.41  5.85  5.76\n",
      " 12.07  9.6   9.96  8.84 12.39  8.01 10.1  13.45  2.85 11.52  2.45  5.28\n",
      " 11.73 10.75  6.76  6.    7.83  7.58 13.69  7.93  7.68  5.49  9.64  7.18\n",
      " 11.47  9.19  7.7  10.74  9.12  4.75  7.78 11.63  7.55  2.25  9.45  9.86\n",
      "  7.71  4.95  7.4   7.43 11.33  6.82  9.58 13.7   1.97 10.89 12.77  5.23\n",
      "  5.27  9.41  7.33  7.29  4.23  6.12  7.57  3.67 12.69 14.5   5.95  7.87\n",
      "  5.96  5.94 12.23  4.9   5.81 12.33  6.89  9.67 12.87  9.26  6.04 13.13\n",
      " 11.87  5.42  5.73  9.47  8.05  3.71 15.86 11.69  6.46 10.45 12.9  11.04\n",
      "  5.41  6.37 12.21  6.77 12.65  7.86  9.44  4.3   7.38  6.39 13.37  5.02\n",
      " 10.63  2.86 17.19  8.67 10.09  8.37  6.9  10.38  7.36 10.27  6.11  4.45\n",
      " 11.9  15.01 12.84  6.09 10.61  7.45  6.45 11.17 11.72  7.56 11.38  4.42\n",
      "  9.81  5.56  6.01 10.12  8.5  12.4  16.99  5.68 11.64  3.78  9.73  7.82\n",
      " 13.74 12.71 10.98 10.01  9.52  7.31 11.35  9.5  14.03 11.84  7.72 13.22\n",
      " 10.7   8.99  4.68 13.02  9.77 12.58 12.35 12.2  11.4  13.91  3.57 14.65\n",
      " 13.8  12.28  5.99  5.13 10.72 12.86 14.   12.17  4.71  6.28  8.    5.91\n",
      "  5.2  12.    7.27 12.3  12.02 12.88  7.28  5.4  12.04  5.24  6.63 10.41\n",
      " 13.41  9.08  7.08 13.5   5.35 11.83 10.3   5.3  10.32  5.15 12.67 10.64\n",
      " 10.6  12.59  5.57  3.94  4.41  8.35 13.27 10.24  4.25 12.89 12.5  11.29\n",
      "  3.25 11.53  7.05  7.26  4.1  10.37  4.98  6.74 12.52 14.56  8.34 10.59\n",
      "  9.07  3.82 13.97  6.5  13.58 10.93  6.13 14.32 11.14 14.18 10.31  4.46\n",
      " 11.26 10.95  9.82  4.83  7.19  7.74  9.69 14.13  7.16  4.27  6.53  7.98\n",
      " 13.66  8.77 14.78 11.2   9.93 11.    5.29  9.92  6.66  4.29 11.1  10.51\n",
      "  8.96 12.49  4.04 12.94  7.09  6.71  7.94  5.31  5.98  9.85  7.2  14.82\n",
      "  7.25  9.75 13.21  7.01 12.32 10.58  4.92  6.87  6.2   4.47 11.98  4.54\n",
      "  9.59 10.11  5.37  5.33  5.7  12.18  8.98  5.1  13.95  4.67 11.18  4.44\n",
      "  4.73  2.55  6.31  2.43  9.24  7.37 13.42 12.42 11.8  14.45 13.23 10.55\n",
      " 12.6  13.18  7.17 12.19 14.81  6.55  6.21  5.55 11.3  12.27 13.98  8.23\n",
      " 15.49  6.47 11.57 13.48 13.59 13.25 17.77 13.9   3.97 11.56 14.08 13.6\n",
      "  7.49  6.26  4.61  6.98 12.76 15.76  3.6  12.8   7.95  5.9   7.97  5.\n",
      " 12.45 10.97  5.88 12.34 12.03 14.97 15.06 12.85  5.84  6.54  8.27  6.38\n",
      " 11.24 12.64  7.06  5.38  8.62  6.49 10.    4.51  3.93  2.4  11.75  4.7\n",
      "  9.25 15.85  6.81 14.25 14.09 16.42  6.7  12.96 14.67 12.12  6.68 11.81\n",
      "  5.06 13.16  2.13 13.17  5.12  9.11  5.65 12.37 10.53]\n",
      "\n",
      "(885,)\n",
      "\n",
      "Unique Total intl minutes's count : [10.  13.7 12.2  6.6 10.1  6.3  7.5  7.1 11.2  9.1 12.3 13.1 13.8  8.1\n",
      " 13.  10.6  5.7  9.5 10.3 15.5 14.7 14.2 12.6 11.8  8.3 10.5 11.1  9.4\n",
      " 14.6  9.2  3.5  8.5  7.4 11.   7.8  6.8  9.3  9.7 10.2  8.   5.8 12.\n",
      " 11.4 11.6  8.2  6.2 12.1  7.3  6.1 11.7 15.  13.2  9.8 12.4 10.9 13.9\n",
      "  7.9  8.7  5.3  4.4 11.3  9.6 13.3 20.   7.2  6.4 14.1 14.3  6.9 11.5\n",
      " 15.8 12.8 16.2  0.  11.9  9.9  8.4 10.8  9.   8.9  8.8 13.4 10.7 17.6\n",
      "  4.7  7.7 13.5 12.9 14.4 14.5  6.7 15.4  5.9 18.9  7.6  5.  12.5  8.6\n",
      "  7.  14.  12.7 18.  16.  14.8  3.7  4.8 15.3  6.  13.6 17.2 17.5  5.4\n",
      " 18.2  3.6 16.5  4.6  5.1  4.1  6.5 15.6 10.4 16.4 16.7  1.3 15.2 15.1\n",
      " 15.9  5.5 16.1 14.9  4.  16.9  5.2  4.2 17.   3.9  2.2  5.6 15.7  4.5\n",
      " 17.9 16.3  4.9 17.3  3.8 18.4 17.8  4.3  2.9  3.1  3.3  2.6  3.4  1.1\n",
      " 16.6  2.1  2.4  2.5]\n",
      "\n",
      "(158,)\n",
      "\n",
      "Unique Total intl calls's count : [ 3  5  7  6  2  4 19 10  9 15  8  1 11  0 12 13 18 14 16 20 17]\n",
      "\n",
      "(21,)\n",
      "\n",
      "Unique Total intl charge's count : [2.7  3.7  3.29 1.78 2.73 1.7  2.03 1.92 3.02 2.46 3.32 3.54 3.73 2.19\n",
      " 3.51 2.86 1.54 2.57 2.78 4.19 3.97 3.83 3.4  3.19 2.24 2.84 3.   2.54\n",
      " 3.94 2.48 0.95 2.3  2.   2.97 2.11 1.84 2.51 2.62 2.75 2.16 1.57 3.24\n",
      " 3.08 3.13 2.21 1.67 3.27 1.97 1.65 3.16 4.05 3.56 2.65 3.35 2.94 3.75\n",
      " 2.13 2.35 1.43 1.19 3.05 2.59 3.59 5.4  1.94 1.73 3.81 3.86 1.86 3.11\n",
      " 4.27 3.46 4.37 0.   3.21 2.67 2.27 2.92 2.43 2.4  2.38 3.62 2.89 4.75\n",
      " 1.27 2.08 3.65 3.48 3.89 3.92 1.81 4.16 1.59 5.1  2.05 1.35 3.38 2.32\n",
      " 1.89 3.78 3.43 4.86 4.32 4.   1.   1.3  4.13 1.62 3.67 4.64 4.73 1.46\n",
      " 4.91 0.97 4.46 1.24 1.38 1.11 1.76 4.21 2.81 4.43 4.51 0.35 4.1  4.08\n",
      " 4.29 1.49 4.35 4.02 1.08 4.56 1.4  1.13 4.59 1.05 0.59 1.51 4.24 1.22\n",
      " 4.83 4.4  1.32 4.67 1.03 4.97 4.81 1.16 0.78 0.84 0.89 0.7  0.92 0.3\n",
      " 4.48 0.57 0.65 0.68]\n",
      "\n",
      "(158,)\n",
      "\n",
      "Unique Customer service calls's count : [1 0 2 3 4 5 7 9 6 8]\n",
      "\n",
      "(10,)\n",
      "\n",
      "Unique Churn's count : [0 1]\n",
      "\n",
      "(2,)\n",
      "\n"
     ]
    }
   ],
   "source": [
    "### Looping through the columns to find the the unique values per column.\n",
    "for i in telecom_data.columns:\n",
    "    print(f\"Unique {i}'s count : {telecom_data[i].unique()}\\n\")\n",
    "    print(f\"{telecom_data[i].unique().shape}\\n\")"
   ]
  },
  {
   "cell_type": "code",
   "execution_count": 12,
   "metadata": {},
   "outputs": [
    {
     "data": {
      "text/plain": [
       "<AxesSubplot:>"
      ]
     },
     "execution_count": 12,
     "metadata": {},
     "output_type": "execute_result"
    },
    {
     "data": {
      "image/png": "[encoded data removed]",
      "text/plain": [
       "<Figure size 720x360 with 1 Axes>"
      ]
     },
     "metadata": {
      "needs_background": "light"
     },
     "output_type": "display_data"
    }
   ],
   "source": [
    "## Show correlation plot for correlation of churn with each of the remaing features.\n",
    "plt.figure()\n",
    "telecom_data.corr()['Churn'].sort_values(ascending= False).plot(kind = 'bar', figsize =(10,5))"
   ]
  },
  {
   "cell_type": "code",
   "execution_count": 13,
   "metadata": {},
   "outputs": [
    {
     "data": {
      "text/plain": [
       "Index(['State', 'Account length', 'Area code', 'International plan',\n",
       "       'Voice mail plan', 'Number vmail messages', 'Total day minutes',\n",
       "       'Total day calls', 'Total day charge', 'Total eve minutes',\n",
       "       'Total eve calls', 'Total eve charge', 'Total night minutes',\n",
       "       'Total night calls', 'Total night charge', 'Total intl minutes',\n",
       "       'Total intl calls', 'Total intl charge', 'Customer service calls',\n",
       "       'Churn'],\n",
       "      dtype='object')"
      ]
     },
     "execution_count": 13,
     "metadata": {},
     "output_type": "execute_result"
    }
   ],
   "source": [
    "telecom_data.columns"
   ]
  },
  {
   "cell_type": "code",
   "execution_count": 14,
   "metadata": {},
   "outputs": [],
   "source": [
    "# Changing the categorical data to the binary integers.\n",
    "def labels(features,telecom_data):\n",
    "    for i in features:\n",
    "        telecom_data[i] = telecom_data[i].map({'Yes': 1, 'No':0})\n",
    "    return\n",
    "labels(['International plan', 'Voice mail plan'], telecom_data)"
   ]
  },
  {
   "cell_type": "code",
   "execution_count": 15,
   "metadata": {
    "scrolled": true
   },
   "outputs": [
    {
     "data": {
      "text/html": [
       "<div>\n",
       "<style scoped>\n",
       "    .dataframe tbody tr th:only-of-type {\n",
       "        vertical-align: middle;\n",
       "    }\n",
       "\n",
       "    .dataframe tbody tr th {\n",
       "        vertical-align: top;\n",
       "    }\n",
       "\n",
       "    .dataframe thead th {\n",
       "        text-align: right;\n",
       "    }\n",
       "</style>\n",
       "<table border=\"1\" class=\"dataframe\">\n",
       "  <thead>\n",
       "    <tr style=\"text-align: right;\">\n",
       "      <th></th>\n",
       "      <th>State</th>\n",
       "      <th>Account length</th>\n",
       "      <th>Area code</th>\n",
       "      <th>International plan</th>\n",
       "      <th>Voice mail plan</th>\n",
       "      <th>Number vmail messages</th>\n",
       "      <th>Total day minutes</th>\n",
       "      <th>Total day calls</th>\n",
       "      <th>Total day charge</th>\n",
       "      <th>Total eve minutes</th>\n",
       "      <th>Total eve calls</th>\n",
       "      <th>Total eve charge</th>\n",
       "      <th>Total night minutes</th>\n",
       "      <th>Total night calls</th>\n",
       "      <th>Total night charge</th>\n",
       "      <th>Total intl minutes</th>\n",
       "      <th>Total intl calls</th>\n",
       "      <th>Total intl charge</th>\n",
       "      <th>Customer service calls</th>\n",
       "      <th>Churn</th>\n",
       "    </tr>\n",
       "  </thead>\n",
       "  <tbody>\n",
       "    <tr>\n",
       "      <th>0</th>\n",
       "      <td>KS</td>\n",
       "      <td>128</td>\n",
       "      <td>415</td>\n",
       "      <td>0</td>\n",
       "      <td>1</td>\n",
       "      <td>25</td>\n",
       "      <td>265.1</td>\n",
       "      <td>110</td>\n",
       "      <td>45.07</td>\n",
       "      <td>197.4</td>\n",
       "      <td>99</td>\n",
       "      <td>16.78</td>\n",
       "      <td>244.7</td>\n",
       "      <td>91</td>\n",
       "      <td>11.01</td>\n",
       "      <td>10.0</td>\n",
       "      <td>3</td>\n",
       "      <td>2.70</td>\n",
       "      <td>1</td>\n",
       "      <td>0</td>\n",
       "    </tr>\n",
       "    <tr>\n",
       "      <th>1</th>\n",
       "      <td>OH</td>\n",
       "      <td>107</td>\n",
       "      <td>415</td>\n",
       "      <td>0</td>\n",
       "      <td>1</td>\n",
       "      <td>26</td>\n",
       "      <td>161.6</td>\n",
       "      <td>123</td>\n",
       "      <td>27.47</td>\n",
       "      <td>195.5</td>\n",
       "      <td>103</td>\n",
       "      <td>16.62</td>\n",
       "      <td>254.4</td>\n",
       "      <td>103</td>\n",
       "      <td>11.45</td>\n",
       "      <td>13.7</td>\n",
       "      <td>3</td>\n",
       "      <td>3.70</td>\n",
       "      <td>1</td>\n",
       "      <td>0</td>\n",
       "    </tr>\n",
       "    <tr>\n",
       "      <th>2</th>\n",
       "      <td>NJ</td>\n",
       "      <td>137</td>\n",
       "      <td>415</td>\n",
       "      <td>0</td>\n",
       "      <td>0</td>\n",
       "      <td>0</td>\n",
       "      <td>243.4</td>\n",
       "      <td>114</td>\n",
       "      <td>41.38</td>\n",
       "      <td>121.2</td>\n",
       "      <td>110</td>\n",
       "      <td>10.30</td>\n",
       "      <td>162.6</td>\n",
       "      <td>104</td>\n",
       "      <td>7.32</td>\n",
       "      <td>12.2</td>\n",
       "      <td>5</td>\n",
       "      <td>3.29</td>\n",
       "      <td>0</td>\n",
       "      <td>0</td>\n",
       "    </tr>\n",
       "    <tr>\n",
       "      <th>3</th>\n",
       "      <td>OH</td>\n",
       "      <td>84</td>\n",
       "      <td>408</td>\n",
       "      <td>1</td>\n",
       "      <td>0</td>\n",
       "      <td>0</td>\n",
       "      <td>299.4</td>\n",
       "      <td>71</td>\n",
       "      <td>50.90</td>\n",
       "      <td>61.9</td>\n",
       "      <td>88</td>\n",
       "      <td>5.26</td>\n",
       "      <td>196.9</td>\n",
       "      <td>89</td>\n",
       "      <td>8.86</td>\n",
       "      <td>6.6</td>\n",
       "      <td>7</td>\n",
       "      <td>1.78</td>\n",
       "      <td>2</td>\n",
       "      <td>0</td>\n",
       "    </tr>\n",
       "    <tr>\n",
       "      <th>4</th>\n",
       "      <td>OK</td>\n",
       "      <td>75</td>\n",
       "      <td>415</td>\n",
       "      <td>1</td>\n",
       "      <td>0</td>\n",
       "      <td>0</td>\n",
       "      <td>166.7</td>\n",
       "      <td>113</td>\n",
       "      <td>28.34</td>\n",
       "      <td>148.3</td>\n",
       "      <td>122</td>\n",
       "      <td>12.61</td>\n",
       "      <td>186.9</td>\n",
       "      <td>121</td>\n",
       "      <td>8.41</td>\n",
       "      <td>10.1</td>\n",
       "      <td>3</td>\n",
       "      <td>2.73</td>\n",
       "      <td>3</td>\n",
       "      <td>0</td>\n",
       "    </tr>\n",
       "    <tr>\n",
       "      <th>...</th>\n",
       "      <td>...</td>\n",
       "      <td>...</td>\n",
       "      <td>...</td>\n",
       "      <td>...</td>\n",
       "      <td>...</td>\n",
       "      <td>...</td>\n",
       "      <td>...</td>\n",
       "      <td>...</td>\n",
       "      <td>...</td>\n",
       "      <td>...</td>\n",
       "      <td>...</td>\n",
       "      <td>...</td>\n",
       "      <td>...</td>\n",
       "      <td>...</td>\n",
       "      <td>...</td>\n",
       "      <td>...</td>\n",
       "      <td>...</td>\n",
       "      <td>...</td>\n",
       "      <td>...</td>\n",
       "      <td>...</td>\n",
       "    </tr>\n",
       "    <tr>\n",
       "      <th>2661</th>\n",
       "      <td>SC</td>\n",
       "      <td>79</td>\n",
       "      <td>415</td>\n",
       "      <td>0</td>\n",
       "      <td>0</td>\n",
       "      <td>0</td>\n",
       "      <td>134.7</td>\n",
       "      <td>98</td>\n",
       "      <td>22.90</td>\n",
       "      <td>189.7</td>\n",
       "      <td>68</td>\n",
       "      <td>16.12</td>\n",
       "      <td>221.4</td>\n",
       "      <td>128</td>\n",
       "      <td>9.96</td>\n",
       "      <td>11.8</td>\n",
       "      <td>5</td>\n",
       "      <td>3.19</td>\n",
       "      <td>2</td>\n",
       "      <td>0</td>\n",
       "    </tr>\n",
       "    <tr>\n",
       "      <th>2662</th>\n",
       "      <td>AZ</td>\n",
       "      <td>192</td>\n",
       "      <td>415</td>\n",
       "      <td>0</td>\n",
       "      <td>1</td>\n",
       "      <td>36</td>\n",
       "      <td>156.2</td>\n",
       "      <td>77</td>\n",
       "      <td>26.55</td>\n",
       "      <td>215.5</td>\n",
       "      <td>126</td>\n",
       "      <td>18.32</td>\n",
       "      <td>279.1</td>\n",
       "      <td>83</td>\n",
       "      <td>12.56</td>\n",
       "      <td>9.9</td>\n",
       "      <td>6</td>\n",
       "      <td>2.67</td>\n",
       "      <td>2</td>\n",
       "      <td>0</td>\n",
       "    </tr>\n",
       "    <tr>\n",
       "      <th>2663</th>\n",
       "      <td>WV</td>\n",
       "      <td>68</td>\n",
       "      <td>415</td>\n",
       "      <td>0</td>\n",
       "      <td>0</td>\n",
       "      <td>0</td>\n",
       "      <td>231.1</td>\n",
       "      <td>57</td>\n",
       "      <td>39.29</td>\n",
       "      <td>153.4</td>\n",
       "      <td>55</td>\n",
       "      <td>13.04</td>\n",
       "      <td>191.3</td>\n",
       "      <td>123</td>\n",
       "      <td>8.61</td>\n",
       "      <td>9.6</td>\n",
       "      <td>4</td>\n",
       "      <td>2.59</td>\n",
       "      <td>3</td>\n",
       "      <td>0</td>\n",
       "    </tr>\n",
       "    <tr>\n",
       "      <th>2664</th>\n",
       "      <td>RI</td>\n",
       "      <td>28</td>\n",
       "      <td>510</td>\n",
       "      <td>0</td>\n",
       "      <td>0</td>\n",
       "      <td>0</td>\n",
       "      <td>180.8</td>\n",
       "      <td>109</td>\n",
       "      <td>30.74</td>\n",
       "      <td>288.8</td>\n",
       "      <td>58</td>\n",
       "      <td>24.55</td>\n",
       "      <td>191.9</td>\n",
       "      <td>91</td>\n",
       "      <td>8.64</td>\n",
       "      <td>14.1</td>\n",
       "      <td>6</td>\n",
       "      <td>3.81</td>\n",
       "      <td>2</td>\n",
       "      <td>0</td>\n",
       "    </tr>\n",
       "    <tr>\n",
       "      <th>2665</th>\n",
       "      <td>TN</td>\n",
       "      <td>74</td>\n",
       "      <td>415</td>\n",
       "      <td>0</td>\n",
       "      <td>1</td>\n",
       "      <td>25</td>\n",
       "      <td>234.4</td>\n",
       "      <td>113</td>\n",
       "      <td>39.85</td>\n",
       "      <td>265.9</td>\n",
       "      <td>82</td>\n",
       "      <td>22.60</td>\n",
       "      <td>241.4</td>\n",
       "      <td>77</td>\n",
       "      <td>10.86</td>\n",
       "      <td>13.7</td>\n",
       "      <td>4</td>\n",
       "      <td>3.70</td>\n",
       "      <td>0</td>\n",
       "      <td>0</td>\n",
       "    </tr>\n",
       "  </tbody>\n",
       "</table>\n",
       "<p>2666 rows × 20 columns</p>\n",
       "</div>"
      ],
      "text/plain": [
       "     State  Account length  Area code  International plan  Voice mail plan  \\\n",
       "0       KS             128        415                   0                1   \n",
       "1       OH             107        415                   0                1   \n",
       "2       NJ             137        415                   0                0   \n",
       "3       OH              84        408                   1                0   \n",
       "4       OK              75        415                   1                0   \n",
       "...    ...             ...        ...                 ...              ...   \n",
       "2661    SC              79        415                   0                0   \n",
       "2662    AZ             192        415                   0                1   \n",
       "2663    WV              68        415                   0                0   \n",
       "2664    RI              28        510                   0                0   \n",
       "2665    TN              74        415                   0                1   \n",
       "\n",
       "      Number vmail messages  Total day minutes  Total day calls  \\\n",
       "0                        25              265.1              110   \n",
       "1                        26              161.6              123   \n",
       "2                         0              243.4              114   \n",
       "3                         0              299.4               71   \n",
       "4                         0              166.7              113   \n",
       "...                     ...                ...              ...   \n",
       "2661                      0              134.7               98   \n",
       "2662                     36              156.2               77   \n",
       "2663                      0              231.1               57   \n",
       "2664                      0              180.8              109   \n",
       "2665                     25              234.4              113   \n",
       "\n",
       "      Total day charge  Total eve minutes  Total eve calls  Total eve charge  \\\n",
       "0                45.07              197.4               99             16.78   \n",
       "1                27.47              195.5              103             16.62   \n",
       "2                41.38              121.2              110             10.30   \n",
       "3                50.90               61.9               88              5.26   \n",
       "4                28.34              148.3              122             12.61   \n",
       "...                ...                ...              ...               ...   \n",
       "2661             22.90              189.7               68             16.12   \n",
       "2662             26.55              215.5              126             18.32   \n",
       "2663             39.29              153.4               55             13.04   \n",
       "2664             30.74              288.8               58             24.55   \n",
       "2665             39.85              265.9               82             22.60   \n",
       "\n",
       "      Total night minutes  Total night calls  Total night charge  \\\n",
       "0                   244.7                 91               11.01   \n",
       "1                   254.4                103               11.45   \n",
       "2                   162.6                104                7.32   \n",
       "3                   196.9                 89                8.86   \n",
       "4                   186.9                121                8.41   \n",
       "...                   ...                ...                 ...   \n",
       "2661                221.4                128                9.96   \n",
       "2662                279.1                 83               12.56   \n",
       "2663                191.3                123                8.61   \n",
       "2664                191.9                 91                8.64   \n",
       "2665                241.4                 77               10.86   \n",
       "\n",
       "      Total intl minutes  Total intl calls  Total intl charge  \\\n",
       "0                   10.0                 3               2.70   \n",
       "1                   13.7                 3               3.70   \n",
       "2                   12.2                 5               3.29   \n",
       "3                    6.6                 7               1.78   \n",
       "4                   10.1                 3               2.73   \n",
       "...                  ...               ...                ...   \n",
       "2661                11.8                 5               3.19   \n",
       "2662                 9.9                 6               2.67   \n",
       "2663                 9.6                 4               2.59   \n",
       "2664                14.1                 6               3.81   \n",
       "2665                13.7                 4               3.70   \n",
       "\n",
       "      Customer service calls  Churn  \n",
       "0                          1      0  \n",
       "1                          1      0  \n",
       "2                          0      0  \n",
       "3                          2      0  \n",
       "4                          3      0  \n",
       "...                      ...    ...  \n",
       "2661                       2      0  \n",
       "2662                       2      0  \n",
       "2663                       3      0  \n",
       "2664                       2      0  \n",
       "2665                       0      0  \n",
       "\n",
       "[2666 rows x 20 columns]"
      ]
     },
     "execution_count": 15,
     "metadata": {},
     "output_type": "execute_result"
    }
   ],
   "source": [
    "telecom_data"
   ]
  },
  {
   "cell_type": "code",
   "execution_count": 16,
   "metadata": {},
   "outputs": [],
   "source": [
    "# Model Training\n",
    "from sklearn.model_selection import train_test_split\n",
    "X1 = telecom_data.drop(columns=['State', 'Area code'])\n",
    "X = X1\n",
    "y = telecom_data['Churn']"
   ]
  },
  {
   "cell_type": "code",
   "execution_count": 17,
   "metadata": {},
   "outputs": [],
   "source": [
    "X_train, X_test, y_train, y_test = train_test_split(X, y, test_size=0.2, random_state=42)"
   ]
  },
  {
   "cell_type": "code",
   "execution_count": 18,
   "metadata": {},
   "outputs": [
    {
     "data": {
      "text/plain": [
       "((2132, 18), (2132,))"
      ]
     },
     "execution_count": 18,
     "metadata": {},
     "output_type": "execute_result"
    }
   ],
   "source": [
    "X_train.shape, y_train.shape"
   ]
  },
  {
   "cell_type": "code",
   "execution_count": 19,
   "metadata": {},
   "outputs": [],
   "source": [
    "from sklearn.metrics import confusion_matrix, accuracy_score, classification_report, plot_confusion_matrix"
   ]
  },
  {
   "cell_type": "code",
   "execution_count": 20,
   "metadata": {},
   "outputs": [],
   "source": [
    "# Define a function that plots the confusion matrix for a classifier and the train and test accuracy\n",
    "def confusion_matrix_plot(X_train, X_test, y_train, y_test, Classifier, y_pred, Classifier_name):\n",
    "    fig,ax = plt.subplots(figsize = (4,3))\n",
    "    plot_confusion_matrix(Classifier, X_test, y_test, display_labels = [\"No Churn\", \"Churn\"], cmap = plt.cm.Blues, normalize = None, ax =ax)\n",
    "    ax.set_title(f'{Classifier_name}- Confusion Matrix')\n",
    "    plt.show()\n",
    "    \n",
    "    fig,ax = plt.subplots(figsize = (4,3))\n",
    "    plot_confusion_matrix(Classifier, X_test, y_test, display_labels = [\"No Churn\", \"Churn\"], cmap = plt.cm.Blues, normalize = 'true', ax =ax)\n",
    "    ax.set_title(f'{Classifier_name}- Confusion Matrix (norm.)')\n",
    "    plt.show()\n",
    "    \n",
    "    print(f'Accuracy Score test: {accuracy_score(y_test, y_pred)*100}')\n",
    "    print(f'Accuracy Score train: {Classifier.score(X_train, y_train)*100} (as comparison)')\n",
    "    return print(\"\")"
   ]
  },
  {
   "cell_type": "markdown",
   "metadata": {},
   "source": [
    "### KNN"
   ]
  },
  {
   "cell_type": "code",
   "execution_count": 21,
   "metadata": {},
   "outputs": [],
   "source": [
    "from sklearn.neighbors import KNeighborsClassifier"
   ]
  },
  {
   "cell_type": "code",
   "execution_count": 22,
   "metadata": {},
   "outputs": [],
   "source": [
    "# train the KNN classifier based on the training data set\n",
    "knn = KNeighborsClassifier()"
   ]
  },
  {
   "cell_type": "code",
   "execution_count": 23,
   "metadata": {},
   "outputs": [],
   "source": [
    "knn_train = knn.fit(X_train, y_train)"
   ]
  },
  {
   "cell_type": "code",
   "execution_count": 24,
   "metadata": {},
   "outputs": [],
   "source": [
    "# Make predictions with the trained clasifier on the test data set\n",
    "y_pred_knn = knn_train.predict(X_test)\n",
    "y_pred_knn_prob = knn_train.predict_proba(X_test)"
   ]
  },
  {
   "cell_type": "code",
   "execution_count": 25,
   "metadata": {},
   "outputs": [
    {
     "data": {
      "image/png": "[encoded data removed]",
      "text/plain": [
       "<Figure size 288x216 with 2 Axes>"
      ]
     },
     "metadata": {
      "needs_background": "light"
     },
     "output_type": "display_data"
    },
    {
     "data": {
      "image/png": "[encoded data removed]",
      "text/plain": [
       "<Figure size 288x216 with 2 Axes>"
      ]
     },
     "metadata": {
      "needs_background": "light"
     },
     "output_type": "display_data"
    },
    {
     "name": "stdout",
     "output_type": "stream",
     "text": [
      "Accuracy Score test: 87.07865168539325\n",
      "Accuracy Score train: 89.6810506566604 (as comparison)\n",
      "\n"
     ]
    }
   ],
   "source": [
    "# plot model evaluation\n",
    "confusion_matrix_plot(X_train, X_test, y_train, y_test, knn, y_pred_knn, 'KNN')"
   ]
  },
  {
   "cell_type": "code",
   "execution_count": 26,
   "metadata": {},
   "outputs": [
    {
     "data": {
      "text/plain": [
       "array([[449,   6],\n",
       "       [ 63,  16]], dtype=int64)"
      ]
     },
     "execution_count": 26,
     "metadata": {},
     "output_type": "execute_result"
    }
   ],
   "source": [
    "confusion_matrix(y_test, y_pred_knn)"
   ]
  },
  {
   "cell_type": "code",
   "execution_count": 27,
   "metadata": {},
   "outputs": [
    {
     "name": "stdout",
     "output_type": "stream",
     "text": [
      "Accuracy Score:  87.07865168539325 \n",
      "\n",
      "              precision    recall  f1-score   support\n",
      "\n",
      "           0       0.88      0.99      0.93       455\n",
      "           1       0.73      0.20      0.32        79\n",
      "\n",
      "    accuracy                           0.87       534\n",
      "   macro avg       0.80      0.59      0.62       534\n",
      "weighted avg       0.85      0.87      0.84       534\n",
      "\n"
     ]
    }
   ],
   "source": [
    "# print accuracy score and the classification report from actual test data and the predicted test data\n",
    "print(\"Accuracy Score: \",accuracy_score(y_test, y_pred_knn)*100, \"\\n\")\n",
    "print(classification_report(y_test, y_pred_knn))"
   ]
  },
  {
   "cell_type": "markdown",
   "metadata": {},
   "source": [
    "### Logistic Regression"
   ]
  },
  {
   "cell_type": "code",
   "execution_count": 28,
   "metadata": {},
   "outputs": [],
   "source": [
    "from sklearn.linear_model import LogisticRegression"
   ]
  },
  {
   "cell_type": "code",
   "execution_count": 29,
   "metadata": {},
   "outputs": [],
   "source": [
    "# train the Logistic Regression model based on the training data set\n",
    "logreg = LogisticRegression(max_iter=3000)"
   ]
  },
  {
   "cell_type": "code",
   "execution_count": 30,
   "metadata": {},
   "outputs": [
    {
     "data": {
      "text/plain": [
       "LogisticRegression(max_iter=3000)"
      ]
     },
     "execution_count": 30,
     "metadata": {},
     "output_type": "execute_result"
    }
   ],
   "source": [
    "logreg_train = logreg.fit(X_train, y_train)\n",
    "logreg_train"
   ]
  },
  {
   "cell_type": "code",
   "execution_count": 31,
   "metadata": {},
   "outputs": [],
   "source": [
    "# Make predictions with the trained model on the test data set\n",
    "y_pred_logreg = logreg.predict(X_test)\n",
    "y_pred_logreg_prob = logreg.predict_proba(X_test)"
   ]
  },
  {
   "cell_type": "code",
   "execution_count": 32,
   "metadata": {},
   "outputs": [
    {
     "data": {
      "image/png": "[encoded data removed]",
      "text/plain": [
       "<Figure size 288x216 with 2 Axes>"
      ]
     },
     "metadata": {
      "needs_background": "light"
     },
     "output_type": "display_data"
    },
    {
     "data": {
      "image/png": "[encoded data removed]",
      "text/plain": [
       "<Figure size 288x216 with 2 Axes>"
      ]
     },
     "metadata": {
      "needs_background": "light"
     },
     "output_type": "display_data"
    },
    {
     "name": "stdout",
     "output_type": "stream",
     "text": [
      "Accuracy Score test: 100.0\n",
      "Accuracy Score train: 100.0 (as comparison)\n",
      "\n"
     ]
    }
   ],
   "source": [
    "# plot model evaluation\n",
    "confusion_matrix_plot(X_train, X_test, y_train, y_test, logreg, y_pred_logreg, 'Log. Regression')"
   ]
  },
  {
   "cell_type": "code",
   "execution_count": 33,
   "metadata": {
    "scrolled": false
   },
   "outputs": [
    {
     "name": "stdout",
     "output_type": "stream",
     "text": [
      "Accuracy Score:  100.0 \n",
      "\n",
      "              precision    recall  f1-score   support\n",
      "\n",
      "           0       1.00      1.00      1.00       455\n",
      "           1       1.00      1.00      1.00        79\n",
      "\n",
      "    accuracy                           1.00       534\n",
      "   macro avg       1.00      1.00      1.00       534\n",
      "weighted avg       1.00      1.00      1.00       534\n",
      "\n"
     ]
    }
   ],
   "source": [
    "# print accuracy score and the classification report from actual test data and the predicted test data\n",
    "print(\"Accuracy Score: \",accuracy_score(y_test, y_pred_logreg)*100, \"\\n\")\n",
    "print(classification_report(y_test, y_pred_logreg))"
   ]
  },
  {
   "cell_type": "markdown",
   "metadata": {},
   "source": [
    "### Random Forest"
   ]
  },
  {
   "cell_type": "code",
   "execution_count": 34,
   "metadata": {},
   "outputs": [],
   "source": [
    "from sklearn.ensemble import RandomForestClassifier"
   ]
  },
  {
   "cell_type": "code",
   "execution_count": 35,
   "metadata": {},
   "outputs": [],
   "source": [
    "# Instanciate and train the Random Forest model based on the training set\n",
    "rf = RandomForestClassifier()"
   ]
  },
  {
   "cell_type": "code",
   "execution_count": 36,
   "metadata": {},
   "outputs": [
    {
     "data": {
      "text/plain": [
       "RandomForestClassifier()"
      ]
     },
     "execution_count": 36,
     "metadata": {},
     "output_type": "execute_result"
    }
   ],
   "source": [
    "rf_train = rf.fit(X_train,y_train)\n",
    "rf_train"
   ]
  },
  {
   "cell_type": "code",
   "execution_count": 37,
   "metadata": {},
   "outputs": [],
   "source": [
    "## Make Predictions with the trained model on the test set\n",
    "y_pred_rf = rf_train.predict(X_test)\n",
    "y_pred_rf_prob = rf_train.predict_proba(X_test)"
   ]
  },
  {
   "cell_type": "code",
   "execution_count": 38,
   "metadata": {},
   "outputs": [
    {
     "data": {
      "image/png": "[encoded data removed]",
      "text/plain": [
       "<Figure size 288x216 with 2 Axes>"
      ]
     },
     "metadata": {
      "needs_background": "light"
     },
     "output_type": "display_data"
    },
    {
     "data": {
      "image/png": "[encoded data removed]",
      "text/plain": [
       "<Figure size 288x216 with 2 Axes>"
      ]
     },
     "metadata": {
      "needs_background": "light"
     },
     "output_type": "display_data"
    },
    {
     "name": "stdout",
     "output_type": "stream",
     "text": [
      "Accuracy Score test: 100.0\n",
      "Accuracy Score train: 100.0 (as comparison)\n",
      "\n"
     ]
    }
   ],
   "source": [
    "# plot model evaluation\n",
    "confusion_matrix_plot(X_train, X_test, y_train, y_test, rf, y_pred_rf, 'Random Forest')"
   ]
  },
  {
   "cell_type": "code",
   "execution_count": 39,
   "metadata": {},
   "outputs": [
    {
     "data": {
      "text/plain": [
       "array([[455,   0],\n",
       "       [  0,  79]], dtype=int64)"
      ]
     },
     "execution_count": 39,
     "metadata": {},
     "output_type": "execute_result"
    }
   ],
   "source": [
    "confusion_matrix(y_test,y_pred_rf)"
   ]
  },
  {
   "cell_type": "markdown",
   "metadata": {},
   "source": [
    "### Support Vector Machine"
   ]
  },
  {
   "cell_type": "code",
   "execution_count": 40,
   "metadata": {},
   "outputs": [],
   "source": [
    "from sklearn.svm import SVC"
   ]
  },
  {
   "cell_type": "code",
   "execution_count": 41,
   "metadata": {},
   "outputs": [
    {
     "data": {
      "text/plain": [
       "SVC(probability=True)"
      ]
     },
     "execution_count": 41,
     "metadata": {},
     "output_type": "execute_result"
    }
   ],
   "source": [
    "# Instanciate and train the Support Vector Machine model based on the training set\n",
    "svm = SVC(kernel='rbf', probability=True)\n",
    "svm_train = svm.fit(X_train,y_train)\n",
    "svm_train"
   ]
  },
  {
   "cell_type": "code",
   "execution_count": 42,
   "metadata": {},
   "outputs": [],
   "source": [
    "## Make Predictions with the trained model on the test set\n",
    "y_pred_svm = svm_train.predict(X_test)\n",
    "y_pred_svm_prob = svm_train.predict_proba(X_test)"
   ]
  },
  {
   "cell_type": "code",
   "execution_count": 43,
   "metadata": {},
   "outputs": [
    {
     "data": {
      "image/png": "[encoded data removed]",
      "text/plain": [
       "<Figure size 288x216 with 2 Axes>"
      ]
     },
     "metadata": {
      "needs_background": "light"
     },
     "output_type": "display_data"
    },
    {
     "data": {
      "image/png": "[encoded data removed]",
      "text/plain": [
       "<Figure size 288x216 with 2 Axes>"
      ]
     },
     "metadata": {
      "needs_background": "light"
     },
     "output_type": "display_data"
    },
    {
     "name": "stdout",
     "output_type": "stream",
     "text": [
      "Accuracy Score test: 85.2059925093633\n",
      "Accuracy Score train: 85.50656660412757 (as comparison)\n",
      "\n"
     ]
    }
   ],
   "source": [
    "# plot model evaluation\n",
    "confusion_matrix_plot(X_train, X_test, y_train, y_test, svm, y_pred_svm, 'SVM')"
   ]
  },
  {
   "cell_type": "code",
   "execution_count": null,
   "metadata": {},
   "outputs": [],
   "source": []
  }
 ],
 "metadata": {
  "kernelspec": {
   "display_name": "Python 3",
   "language": "python",
   "name": "python3"
  },
  "language_info": {
   "codemirror_mode": {
    "name": "ipython",
    "version": 3
   },
   "file_extension": ".py",
   "mimetype": "text/x-python",
   "name": "python",
   "nbconvert_exporter": "python",
   "pygments_lexer": "ipython3",
   "version": "3.8.5"
  }
 },
 "nbformat": 4,
 "nbformat_minor": 4
}
